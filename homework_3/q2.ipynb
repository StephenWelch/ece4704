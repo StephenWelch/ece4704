{
 "cells": [
  {
   "cell_type": "code",
   "execution_count": 25,
   "metadata": {},
   "outputs": [],
   "source": [
    "%matplotlib widget\n",
    "import spb\n",
    "import sympy as sp\n",
    "from sympy import sin, cos, pi, sqrt, acos, simplify\n",
    "sp.init_printing()"
   ]
  },
  {
   "cell_type": "code",
   "execution_count": 26,
   "metadata": {},
   "outputs": [],
   "source": [
    "# Helper functions\n",
    "from typing import List\n",
    "\n",
    "\n",
    "def homogeneous(rotation: sp.Matrix = sp.eye(3), translation: sp.Matrix = sp.zeros(3, 1)) -> sp.Matrix:\n",
    "    return rotation.row_join(translation).col_join(sp.Matrix([[0, 0, 0, 1]]))\n",
    "\n",
    "def dh(rotation, twist, displacement, offset):\n",
    "    rotation_mat = sp.Matrix([\n",
    "        [cos(rotation), -sin(rotation)*cos(twist),  sin(rotation)*sin(twist)],\n",
    "        [sin(rotation), cos(rotation)*cos(twist),   -cos(rotation)*sin(twist)],\n",
    "        [0,             sin(twist),                 cos(twist)],\n",
    "    ])\n",
    "    translation = sp.Matrix([\n",
    "        [offset*cos(rotation)],\n",
    "        [offset*sin(rotation)],\n",
    "        [displacement],\n",
    "    ])\n",
    "    return rotation_mat, translation\n",
    "\n",
    "def rotation(homogeneous: sp.Matrix):\n",
    "    return homogeneous[:3, :3]\n",
    "\n",
    "def translation(homogeneous: sp.Matrix):\n",
    "    return homogeneous[:3, 3:]\n",
    "\n",
    "def jacobian(transforms: List[sp.Matrix], joint_types: List[sp.Matrix], base_z: sp.Matrix = sp.Matrix([0, 0, 1])):\n",
    "    transforms_chained = [homogeneous()]\n",
    "    z_unit_vecs = []\n",
    "    # chain the transforms\n",
    "    for i, transform in enumerate(transforms):\n",
    "        transforms_chained.append(transforms_chained[-1] * transform)\n",
    "    # apply rotation of chained transforms to base z\n",
    "    for chained_transform in transforms_chained:\n",
    "        z_unit_vecs.append(rotation(chained_transform) * base_z)\n",
    "    \n",
    "    assert len(transforms_chained) == len(z_unit_vecs)\n",
    "\n",
    "    jacobian = sp.zeros(6, len(transforms))\n",
    "    for i, (transform, joint_type) in enumerate(zip(transforms, joint_types)):\n",
    "        p = 1 if joint_type == 'revolute' else 0\n",
    "        if joint_type == 'revolute':\n",
    "            jacobian[:3, i] = z_unit_vecs[i].cross(translation(transforms_chained[-1]) - translation(transforms_chained[i]))\n",
    "            jacobian[3:, i] = z_unit_vecs[i]\n",
    "        elif joint_type == 'prismatic':\n",
    "            jacobian[:3, i] = z_unit_vecs[i]\n",
    "            jacobian[3:, i] = sp.Matrix([[0], [0], [0]])\n",
    "\n",
    "        # angular velocity\n",
    "\n",
    "    return jacobian"
   ]
  },
  {
   "cell_type": "code",
   "execution_count": 27,
   "metadata": {},
   "outputs": [
    {
     "data": {
      "text/latex": [
       "$\\displaystyle \\left[\\begin{matrix}\\cos{\\left(q_{1} \\right)} & 0 & - \\sin{\\left(q_{1} \\right)} & 0\\\\\\sin{\\left(q_{1} \\right)} & 0 & \\cos{\\left(q_{1} \\right)} & 0\\\\0 & -1 & 0 & 0\\\\0 & 0 & 0 & 1\\end{matrix}\\right]$"
      ],
      "text/plain": [
       "⎡cos(q₁)  0   -sin(q₁)  0⎤\n",
       "⎢                        ⎥\n",
       "⎢sin(q₁)  0   cos(q₁)   0⎥\n",
       "⎢                        ⎥\n",
       "⎢   0     -1     0      0⎥\n",
       "⎢                        ⎥\n",
       "⎣   0     0      0      1⎦"
      ]
     },
     "metadata": {},
     "output_type": "display_data"
    },
    {
     "data": {
      "text/latex": [
       "$\\displaystyle \\left[\\begin{matrix}1 & 0 & 0 & 0\\\\0 & 0 & -1 & 0\\\\0 & 1 & 0 & q_{2}\\\\0 & 0 & 0 & 1\\end{matrix}\\right]$"
      ],
      "text/plain": [
       "⎡1  0  0   0 ⎤\n",
       "⎢            ⎥\n",
       "⎢0  0  -1  0 ⎥\n",
       "⎢            ⎥\n",
       "⎢0  1  0   q₂⎥\n",
       "⎢            ⎥\n",
       "⎣0  0  0   1 ⎦"
      ]
     },
     "metadata": {},
     "output_type": "display_data"
    },
    {
     "data": {
      "text/latex": [
       "$\\displaystyle \\left[\\begin{matrix}\\cos{\\left(q_{1} \\right)} & - \\sin{\\left(q_{1} \\right)} & 0 & - q_{2} \\sin{\\left(q_{1} \\right)}\\\\\\sin{\\left(q_{1} \\right)} & \\cos{\\left(q_{1} \\right)} & 0 & q_{2} \\cos{\\left(q_{1} \\right)}\\\\0 & 0 & 1 & 0\\\\0 & 0 & 0 & 1\\end{matrix}\\right]$"
      ],
      "text/plain": [
       "⎡cos(q₁)  -sin(q₁)  0  -q₂⋅sin(q₁)⎤\n",
       "⎢                                 ⎥\n",
       "⎢sin(q₁)  cos(q₁)   0  q₂⋅cos(q₁) ⎥\n",
       "⎢                                 ⎥\n",
       "⎢   0        0      1       0     ⎥\n",
       "⎢                                 ⎥\n",
       "⎣   0        0      0       1     ⎦"
      ]
     },
     "metadata": {},
     "output_type": "display_data"
    },
    {
     "data": {
      "text/latex": [
       "$\\displaystyle \\left[\\begin{matrix}\\cos{\\left(q_{1} \\right)} & - \\sin{\\left(q_{1} \\right)} & 0\\\\\\sin{\\left(q_{1} \\right)} & \\cos{\\left(q_{1} \\right)} & 0\\\\0 & 0 & 1\\end{matrix}\\right]$"
      ],
      "text/plain": [
       "⎡cos(q₁)  -sin(q₁)  0⎤\n",
       "⎢                    ⎥\n",
       "⎢sin(q₁)  cos(q₁)   0⎥\n",
       "⎢                    ⎥\n",
       "⎣   0        0      1⎦"
      ]
     },
     "metadata": {},
     "output_type": "display_data"
    },
    {
     "data": {
      "text/latex": [
       "$\\displaystyle \\left[\\begin{matrix}0\\\\0\\\\0\\end{matrix}\\right]$"
      ],
      "text/plain": [
       "⎡0⎤\n",
       "⎢ ⎥\n",
       "⎢0⎥\n",
       "⎢ ⎥\n",
       "⎣0⎦"
      ]
     },
     "metadata": {},
     "output_type": "display_data"
    },
    {
     "data": {
      "text/latex": [
       "$\\displaystyle \\left[\\begin{matrix}- q_{2} \\cos{\\left(q_{1} \\right)} & - \\sin{\\left(q_{1} \\right)}\\\\- q_{2} \\sin{\\left(q_{1} \\right)} & \\cos{\\left(q_{1} \\right)}\\end{matrix}\\right]$"
      ],
      "text/plain": [
       "⎡-q₂⋅cos(q₁)  -sin(q₁)⎤\n",
       "⎢                     ⎥\n",
       "⎣-q₂⋅sin(q₁)  cos(q₁) ⎦"
      ]
     },
     "metadata": {},
     "output_type": "display_data"
    },
    {
     "data": {
      "text/latex": [
       "$\\displaystyle \\left[\\begin{matrix}- \\frac{\\cos{\\left(q_{1} \\right)}}{q_{2}} & - \\frac{\\sin{\\left(q_{1} \\right)}}{q_{2}}\\\\- \\sin{\\left(q_{1} \\right)} & \\cos{\\left(q_{1} \\right)}\\end{matrix}\\right]$"
      ],
      "text/plain": [
       "⎡-cos(q₁)   -sin(q₁) ⎤\n",
       "⎢─────────  ─────────⎥\n",
       "⎢    q₂         q₂   ⎥\n",
       "⎢                    ⎥\n",
       "⎣-sin(q₁)    cos(q₁) ⎦"
      ]
     },
     "execution_count": 27,
     "metadata": {},
     "output_type": "execute_result"
    }
   ],
   "source": [
    "q_1, q_2 = sp.symbols('q_1 q_2')\n",
    "shoulder_rot, shoulder_trans = dh(q_1, -pi/2, 0, 0)\n",
    "probe_rot, probe_trans = dh(0, pi/2, q_2, 0)\n",
    "shoulder_tf = homogeneous(shoulder_rot, shoulder_trans)\n",
    "probe_tf = homogeneous(probe_rot, probe_trans)\n",
    "base_to_end_tf = shoulder_tf * probe_tf\n",
    "\n",
    "display(shoulder_tf)\n",
    "display(probe_tf)\n",
    "display(base_to_end_tf)\n",
    "display(shoulder_rot * probe_rot)\n",
    "\n"
   ]
  },
  {
   "cell_type": "code",
   "execution_count": null,
   "metadata": {},
   "outputs": [],
   "source": [
    "z = sp.Matrix([[0], [0], [1]])\n",
    "display((shoulder_rot * z).cross(translation(base_to_end_tf)))"
   ]
  },
  {
   "cell_type": "code",
   "execution_count": 40,
   "metadata": {},
   "outputs": [
    {
     "data": {
      "text/latex": [
       "$\\displaystyle \\left[\\begin{matrix}- q_{2} \\cos{\\left(q_{1} \\right)} & - \\sin{\\left(q_{1} \\right)}\\\\- q_{2} \\sin{\\left(q_{1} \\right)} & \\cos{\\left(q_{1} \\right)}\\end{matrix}\\right]$"
      ],
      "text/plain": [
       "⎡-q₂⋅cos(q₁)  -sin(q₁)⎤\n",
       "⎢                     ⎥\n",
       "⎣-q₂⋅sin(q₁)  cos(q₁) ⎦"
      ]
     },
     "metadata": {},
     "output_type": "display_data"
    },
    {
     "data": {
      "text/latex": [
       "$\\displaystyle \\left[\\begin{matrix}- \\frac{\\cos{\\left(q_{1} \\right)}}{q_{2}} & - \\frac{\\sin{\\left(q_{1} \\right)}}{q_{2}}\\\\- \\sin{\\left(q_{1} \\right)} & \\cos{\\left(q_{1} \\right)}\\end{matrix}\\right]$"
      ],
      "text/plain": [
       "⎡-cos(q₁)   -sin(q₁) ⎤\n",
       "⎢─────────  ─────────⎥\n",
       "⎢    q₂         q₂   ⎥\n",
       "⎢                    ⎥\n",
       "⎣-sin(q₁)    cos(q₁) ⎦"
      ]
     },
     "metadata": {},
     "output_type": "display_data"
    },
    {
     "data": {
      "text/latex": [
       "$\\displaystyle \\left[\\begin{matrix}- \\frac{v_{x} \\cos{\\left(q_{1} \\right)} + v_{y} \\sin{\\left(q_{1} \\right)}}{q_{2}}\\\\- v_{x} \\sin{\\left(q_{1} \\right)} + v_{y} \\cos{\\left(q_{1} \\right)}\\end{matrix}\\right]$"
      ],
      "text/plain": [
       "⎡-(vₓ⋅cos(q₁) + v_y⋅sin(q₁)) ⎤\n",
       "⎢────────────────────────────⎥\n",
       "⎢             q₂             ⎥\n",
       "⎢                            ⎥\n",
       "⎣ -vₓ⋅sin(q₁) + v_y⋅cos(q₁)  ⎦"
      ]
     },
     "metadata": {},
     "output_type": "display_data"
    },
    {
     "data": {
      "image/png": "[encoded data removed]",
      "text/latex": [
       "$\\displaystyle \\frac{v_{x} \\sin{\\left(q_{1} \\right)} - v_{y} \\cos{\\left(q_{1} \\right)}}{q_{2}}$"
      ],
      "text/plain": [
       "vₓ⋅sin(q₁) - v_y⋅cos(q₁)\n",
       "────────────────────────\n",
       "           q₂           "
      ]
     },
     "metadata": {},
     "output_type": "display_data"
    },
    {
     "data": {
      "image/png": "[encoded data removed]",
      "text/latex": [
       "$\\displaystyle \\frac{v_{x} \\cos{\\left(q_{1} \\right)} + v_{y} \\sin{\\left(q_{1} \\right)}}{q_{2}^{2}}$"
      ],
      "text/plain": [
       "vₓ⋅cos(q₁) + v_y⋅sin(q₁)\n",
       "────────────────────────\n",
       "            2           \n",
       "          q₂            "
      ]
     },
     "metadata": {},
     "output_type": "display_data"
    }
   ],
   "source": [
    "v_x, v_y = sp.symbols('v_x v_y')\n",
    "\n",
    "base_to_end_jac = simplify(jacobian([shoulder_tf, probe_tf], ['revolute', 'prismatic'])[:2, :2])\n",
    "base_to_end_jac_inv = simplify(base_to_end_jac.inv())\n",
    "display(base_to_end_jac)\n",
    "display(base_to_end_jac_inv)\n",
    "base_to_end_jac_inv_expr = simplify(base_to_end_jac_inv * sp.Matrix([[v_x], [v_y]]))\n",
    "display(base_to_end_jac_inv_expr)\n",
    "display(simplify(base_to_end_jac_inv_expr[0, 0].diff(q_1)))\n",
    "display(simplify(base_to_end_jac_inv_expr[0, 0].diff(q_2)))\n"
   ]
  }
 ],
 "metadata": {
  "kernelspec": {
   "display_name": "ece4704",
   "language": "python",
   "name": "python3"
  },
  "language_info": {
   "codemirror_mode": {
    "name": "ipython",
    "version": 3
   },
   "file_extension": ".py",
   "mimetype": "text/x-python",
   "name": "python",
   "nbconvert_exporter": "python",
   "pygments_lexer": "ipython3",
   "version": "3.8.16"
  },
  "orig_nbformat": 4
 },
 "nbformat": 4,
 "nbformat_minor": 2
}
