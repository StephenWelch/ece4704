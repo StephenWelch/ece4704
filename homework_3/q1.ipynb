{
 "cells": [
  {
   "cell_type": "code",
   "execution_count": 179,
   "metadata": {},
   "outputs": [],
   "source": [
    "%matplotlib widget\n",
    "import spb\n",
    "import sympy as sp\n",
    "from sympy import sin, cos, pi, sqrt, acos\n",
    "sp.init_printing()"
   ]
  },
  {
   "cell_type": "code",
   "execution_count": 180,
   "metadata": {},
   "outputs": [],
   "source": [
    "# Helper functions\n",
    "from typing import List\n",
    "\n",
    "\n",
    "def homogeneous(rotation: sp.Matrix = sp.eye(3), translation: sp.Matrix = sp.zeros(3, 1)) -> sp.Matrix:\n",
    "    return rotation.row_join(translation).col_join(sp.Matrix([[0, 0, 0, 1]]))\n",
    "\n",
    "def dh(rotation, twist, displacement, offset):\n",
    "    rotation_mat = sp.Matrix([\n",
    "        [cos(rotation), -sin(rotation)*cos(twist),  sin(rotation)*sin(twist)],\n",
    "        [sin(rotation), cos(rotation)*cos(twist),   -cos(rotation)*sin(twist)],\n",
    "        [0,             sin(twist),                 cos(twist)],\n",
    "    ])\n",
    "    translation = sp.Matrix([\n",
    "        [offset*cos(rotation)],\n",
    "        [offset*sin(rotation)],\n",
    "        [displacement],\n",
    "    ])\n",
    "    return rotation_mat, translation\n",
    "\n",
    "def rotation(homogeneous: sp.Matrix):\n",
    "    return homogeneous[:3, :3]\n",
    "\n",
    "def translation(homogeneous: sp.Matrix):\n",
    "    return homogeneous[:3, 3:]\n",
    "\n",
    "def jacobian(transforms: List[sp.Matrix], joint_types: List[sp.Matrix], base_z: sp.Matrix = sp.Matrix([0, 0, 1])):\n",
    "    transforms_chained = [homogeneous()]\n",
    "    z_unit_vecs = []\n",
    "    # chain the transforms\n",
    "    for i, transform in enumerate(transforms):\n",
    "        transforms_chained.append(transforms_chained[-1] * transform)\n",
    "    # apply rotation of chained transforms to base z\n",
    "    for chained_transform in transforms_chained:\n",
    "        z_unit_vecs.append(rotation(chained_transform) * base_z)\n",
    "    \n",
    "    assert len(transforms_chained) == len(z_unit_vecs)\n",
    "\n",
    "    jacobian = sp.zeros(6, len(transforms))\n",
    "    for i, (transform, joint_type) in enumerate(zip(transforms, joint_types)):\n",
    "        p = 1 if joint_type == 'revolute' else 0\n",
    "        # linear velocity\n",
    "        # handle revolute\n",
    "        if p == 1:\n",
    "            jacobian[:3, i] = z_unit_vecs[i].cross(translation(transforms_chained[-1]) - translation(transforms_chained[i]))\n",
    "        # handle prismatic\n",
    "        else:\n",
    "            jacobian[:3, i] = z_unit_vecs[i]\n",
    "\n",
    "        # angular velocity\n",
    "        jacobian[3:, i] = p * z_unit_vecs[i]\n",
    "\n",
    "    return jacobian"
   ]
  },
  {
   "cell_type": "code",
   "execution_count": 181,
   "metadata": {},
   "outputs": [
    {
     "data": {
      "text/latex": [
       "$\\displaystyle \\left[\\begin{matrix}\\cos{\\left(q_{1} \\right)} & 0 & - \\sin{\\left(q_{1} \\right)} & 0\\\\\\sin{\\left(q_{1} \\right)} & 0 & \\cos{\\left(q_{1} \\right)} & 0\\\\0 & -1 & 0 & d_{o,p}\\\\0 & 0 & 0 & 1\\end{matrix}\\right]$"
      ],
      "text/plain": [
       "⎡cos(q₁)  0   -sin(q₁)     0   ⎤\n",
       "⎢                              ⎥\n",
       "⎢sin(q₁)  0   cos(q₁)      0   ⎥\n",
       "⎢                              ⎥\n",
       "⎢   0     -1     0      d_{o,p}⎥\n",
       "⎢                              ⎥\n",
       "⎣   0     0      0         1   ⎦"
      ]
     },
     "metadata": {},
     "output_type": "display_data"
    },
    {
     "data": {
      "text/latex": [
       "$\\displaystyle \\left[\\begin{matrix}\\cos{\\left(q_{2} \\right)} & - \\sin{\\left(q_{2} \\right)} & 0 & d_{q,r} \\cos{\\left(q_{2} \\right)}\\\\\\sin{\\left(q_{2} \\right)} & \\cos{\\left(q_{2} \\right)} & 0 & d_{q,r} \\sin{\\left(q_{2} \\right)}\\\\0 & 0 & 1 & d_{p,q}\\\\0 & 0 & 0 & 1\\end{matrix}\\right]$"
      ],
      "text/plain": [
       "⎡cos(q₂)  -sin(q₂)  0  d_{q,r}⋅cos(q₂)⎤\n",
       "⎢                                     ⎥\n",
       "⎢sin(q₂)  cos(q₂)   0  d_{q,r}⋅sin(q₂)⎥\n",
       "⎢                                     ⎥\n",
       "⎢   0        0      1      d_{p,q}    ⎥\n",
       "⎢                                     ⎥\n",
       "⎣   0        0      0         1       ⎦"
      ]
     },
     "metadata": {},
     "output_type": "display_data"
    },
    {
     "data": {
      "text/latex": [
       "$\\displaystyle \\left[\\begin{matrix}\\cos{\\left(q_{3} \\right)} & - \\sin{\\left(q_{3} \\right)} & 0 & d_{s,t} \\cos{\\left(q_{3} \\right)}\\\\\\sin{\\left(q_{3} \\right)} & \\cos{\\left(q_{3} \\right)} & 0 & d_{s,t} \\sin{\\left(q_{3} \\right)}\\\\0 & 0 & 1 & - d_{r,s}\\\\0 & 0 & 0 & 1\\end{matrix}\\right]$"
      ],
      "text/plain": [
       "⎡cos(q₃)  -sin(q₃)  0  d_{s,t}⋅cos(q₃)⎤\n",
       "⎢                                     ⎥\n",
       "⎢sin(q₃)  cos(q₃)   0  d_{s,t}⋅sin(q₃)⎥\n",
       "⎢                                     ⎥\n",
       "⎢   0        0      1     -d_{r,s}    ⎥\n",
       "⎢                                     ⎥\n",
       "⎣   0        0      0         1       ⎦"
      ]
     },
     "metadata": {},
     "output_type": "display_data"
    }
   ],
   "source": [
    "turret_angle, shoulder_angle, wrist_angle = sp.symbols('q_1 q_2 q_3')\n",
    "shoulder_height = sp.Symbol('d_{o,p}')\n",
    "shoulder_offset = sp.Symbol('d_{p,q}')\n",
    "arm_length = sp.Symbol('d_{q,r}')\n",
    "forearm_offset = sp.Symbol('d_{r,s}')\n",
    "forearm_length = sp.Symbol('d_{s,t}')\n",
    "\n",
    "turret_rot, turret_trans = dh(turret_angle, -pi/2, shoulder_height, 0)\n",
    "shoulder_rot, shoulder_trans = dh(shoulder_angle, 0, shoulder_offset, arm_length)\n",
    "arm_rot, arm_trans = dh(wrist_angle, 0, -forearm_offset, forearm_length)\n",
    "\n",
    "turret_tf = homogeneous(turret_rot, turret_trans)\n",
    "shoulder_tf = homogeneous(shoulder_rot, shoulder_trans)\n",
    "arm_tf = homogeneous(arm_rot, arm_trans)\n",
    "base_to_end_tf = turret_tf * shoulder_tf * arm_tf\n",
    "\n",
    "display(turret_tf)\n",
    "display(shoulder_tf)\n",
    "display(arm_tf)\n"
   ]
  },
  {
   "cell_type": "code",
   "execution_count": 182,
   "metadata": {},
   "outputs": [
    {
     "data": {
      "text/latex": [
       "$\\displaystyle \\left[\\begin{matrix}0\\\\0\\\\1\\end{matrix}\\right]$"
      ],
      "text/plain": [
       "⎡0⎤\n",
       "⎢ ⎥\n",
       "⎢0⎥\n",
       "⎢ ⎥\n",
       "⎣1⎦"
      ]
     },
     "metadata": {},
     "output_type": "display_data"
    },
    {
     "data": {
      "text/latex": [
       "$\\displaystyle \\left[\\begin{matrix}- \\sin{\\left(q_{1} \\right)}\\\\\\cos{\\left(q_{1} \\right)}\\\\0\\end{matrix}\\right]$"
      ],
      "text/plain": [
       "⎡-sin(q₁)⎤\n",
       "⎢        ⎥\n",
       "⎢cos(q₁) ⎥\n",
       "⎢        ⎥\n",
       "⎣   0    ⎦"
      ]
     },
     "metadata": {},
     "output_type": "display_data"
    },
    {
     "data": {
      "text/latex": [
       "$\\displaystyle \\left[\\begin{matrix}- \\sin{\\left(q_{1} \\right)}\\\\\\cos{\\left(q_{1} \\right)}\\\\0\\end{matrix}\\right]$"
      ],
      "text/plain": [
       "⎡-sin(q₁)⎤\n",
       "⎢        ⎥\n",
       "⎢cos(q₁) ⎥\n",
       "⎢        ⎥\n",
       "⎣   0    ⎦"
      ]
     },
     "metadata": {},
     "output_type": "display_data"
    }
   ],
   "source": [
    "z_0_0 = sp.Matrix([[0], [0], [1]])\n",
    "z_1_0 = turret_rot * z_0_0\n",
    "z_2_0 = turret_rot * shoulder_rot * z_0_0\n",
    "display(z_0_0)\n",
    "display(z_1_0)\n",
    "display(z_2_0)"
   ]
  },
  {
   "cell_type": "code",
   "execution_count": 183,
   "metadata": {},
   "outputs": [
    {
     "data": {
      "text/latex": [
       "$\\displaystyle \\left[\\begin{matrix}- d_{p,q} \\cos{\\left(q_{1} \\right)} - d_{q,r} \\sin{\\left(q_{1} \\right)} \\cos{\\left(q_{2} \\right)} + d_{r,s} \\cos{\\left(q_{1} \\right)} + d_{s,t} \\sin{\\left(q_{1} \\right)} \\sin{\\left(q_{2} \\right)} \\sin{\\left(q_{3} \\right)} - d_{s,t} \\sin{\\left(q_{1} \\right)} \\cos{\\left(q_{2} \\right)} \\cos{\\left(q_{3} \\right)}\\\\- d_{p,q} \\sin{\\left(q_{1} \\right)} + d_{q,r} \\cos{\\left(q_{1} \\right)} \\cos{\\left(q_{2} \\right)} + d_{r,s} \\sin{\\left(q_{1} \\right)} - d_{s,t} \\sin{\\left(q_{2} \\right)} \\sin{\\left(q_{3} \\right)} \\cos{\\left(q_{1} \\right)} + d_{s,t} \\cos{\\left(q_{1} \\right)} \\cos{\\left(q_{2} \\right)} \\cos{\\left(q_{3} \\right)}\\\\0\\end{matrix}\\right]$"
      ],
      "text/plain": [
       "⎡-d_{p,q}⋅cos(q₁) - d_{q,r}⋅sin(q₁)⋅cos(q₂) + d_{r,s}⋅cos(q₁) + d_{s,t}⋅sin(q₁\n",
       "⎢                                                                             \n",
       "⎢-d_{p,q}⋅sin(q₁) + d_{q,r}⋅cos(q₁)⋅cos(q₂) + d_{r,s}⋅sin(q₁) - d_{s,t}⋅sin(q₂\n",
       "⎢                                                                             \n",
       "⎣                                                               0             \n",
       "\n",
       ")⋅sin(q₂)⋅sin(q₃) - d_{s,t}⋅sin(q₁)⋅cos(q₂)⋅cos(q₃)⎤\n",
       "                                                   ⎥\n",
       ")⋅sin(q₃)⋅cos(q₁) + d_{s,t}⋅cos(q₁)⋅cos(q₂)⋅cos(q₃)⎥\n",
       "                                                   ⎥\n",
       "                                                   ⎦"
      ]
     },
     "execution_count": 183,
     "metadata": {},
     "output_type": "execute_result"
    }
   ],
   "source": [
    "z_0_0.cross(translation(base_to_end_tf) - translation(turret_tf))"
   ]
  },
  {
   "cell_type": "code",
   "execution_count": 184,
   "metadata": {},
   "outputs": [
    {
     "data": {
      "text/latex": [
       "$\\displaystyle \\left[\\begin{matrix}- d_{p,q} \\cos{\\left(q_{1} \\right)} - d_{q,r} \\sin{\\left(q_{1} \\right)} \\cos{\\left(q_{2} \\right)} + d_{r,s} \\cos{\\left(q_{1} \\right)} - d_{s,t} \\sin{\\left(q_{1} \\right)} \\cos{\\left(q_{2} + q_{3} \\right)} & - \\left(d_{q,r} \\sin{\\left(q_{2} \\right)} + d_{s,t} \\sin{\\left(q_{2} + q_{3} \\right)}\\right) \\cos{\\left(q_{1} \\right)} & - d_{s,t} \\sin{\\left(q_{2} + q_{3} \\right)} \\cos{\\left(q_{1} \\right)}\\\\- d_{p,q} \\sin{\\left(q_{1} \\right)} + d_{q,r} \\cos{\\left(q_{1} \\right)} \\cos{\\left(q_{2} \\right)} + d_{r,s} \\sin{\\left(q_{1} \\right)} + d_{s,t} \\cos{\\left(q_{1} \\right)} \\cos{\\left(q_{2} + q_{3} \\right)} & - \\left(d_{q,r} \\sin{\\left(q_{2} \\right)} + d_{s,t} \\sin{\\left(q_{2} + q_{3} \\right)}\\right) \\sin{\\left(q_{1} \\right)} & - d_{s,t} \\sin{\\left(q_{1} \\right)} \\sin{\\left(q_{2} + q_{3} \\right)}\\\\0 & - d_{q,r} \\cos{\\left(q_{2} \\right)} - d_{s,t} \\cos{\\left(q_{2} + q_{3} \\right)} & - d_{s,t} \\cos{\\left(q_{2} + q_{3} \\right)}\\\\0 & - \\sin{\\left(q_{1} \\right)} & - \\sin{\\left(q_{1} \\right)}\\\\0 & \\cos{\\left(q_{1} \\right)} & \\cos{\\left(q_{1} \\right)}\\\\1 & 0 & 0\\end{matrix}\\right]$"
      ],
      "text/plain": [
       "⎡-d_{p,q}⋅cos(q₁) - d_{q,r}⋅sin(q₁)⋅cos(q₂) + d_{r,s}⋅cos(q₁) - d_{s,t}⋅sin(q₁\n",
       "⎢                                                                             \n",
       "⎢-d_{p,q}⋅sin(q₁) + d_{q,r}⋅cos(q₁)⋅cos(q₂) + d_{r,s}⋅sin(q₁) + d_{s,t}⋅cos(q₁\n",
       "⎢                                                                             \n",
       "⎢                                             0                               \n",
       "⎢                                                                             \n",
       "⎢                                             0                               \n",
       "⎢                                                                             \n",
       "⎢                                             0                               \n",
       "⎢                                                                             \n",
       "⎣                                             1                               \n",
       "\n",
       ")⋅cos(q₂ + q₃)  -(d_{q,r}⋅sin(q₂) + d_{s,t}⋅sin(q₂ + q₃))⋅cos(q₁)  -d_{s,t}⋅si\n",
       "                                                                              \n",
       ")⋅cos(q₂ + q₃)  -(d_{q,r}⋅sin(q₂) + d_{s,t}⋅sin(q₂ + q₃))⋅sin(q₁)  -d_{s,t}⋅si\n",
       "                                                                              \n",
       "                     -d_{q,r}⋅cos(q₂) - d_{s,t}⋅cos(q₂ + q₃)           -d_{s,t\n",
       "                                                                              \n",
       "                                    -sin(q₁)                                 -\n",
       "                                                                              \n",
       "                                     cos(q₁)                                  \n",
       "                                                                              \n",
       "                                        0                                     \n",
       "\n",
       "n(q₂ + q₃)⋅cos(q₁)⎤\n",
       "                  ⎥\n",
       "n(q₁)⋅sin(q₂ + q₃)⎥\n",
       "                  ⎥\n",
       "}⋅cos(q₂ + q₃)    ⎥\n",
       "                  ⎥\n",
       "sin(q₁)           ⎥\n",
       "                  ⎥\n",
       "cos(q₁)           ⎥\n",
       "                  ⎥\n",
       "   0              ⎦"
      ]
     },
     "execution_count": 184,
     "metadata": {},
     "output_type": "execute_result"
    }
   ],
   "source": [
    "sp.simplify(jacobian([turret_tf, shoulder_tf, arm_tf], ['revolute', 'revolute', 'revolute']))"
   ]
  },
  {
   "cell_type": "code",
   "execution_count": null,
   "metadata": {},
   "outputs": [],
   "source": []
  }
 ],
 "metadata": {
  "kernelspec": {
   "display_name": "ece4704",
   "language": "python",
   "name": "python3"
  },
  "language_info": {
   "codemirror_mode": {
    "name": "ipython",
    "version": 3
   },
   "file_extension": ".py",
   "mimetype": "text/x-python",
   "name": "python",
   "nbconvert_exporter": "python",
   "pygments_lexer": "ipython3",
   "version": "3.8.16"
  },
  "orig_nbformat": 4
 },
 "nbformat": 4,
 "nbformat_minor": 2
}
