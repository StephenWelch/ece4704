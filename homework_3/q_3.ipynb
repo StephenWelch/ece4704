{
 "cells": [
  {
   "cell_type": "code",
   "execution_count": 40,
   "metadata": {},
   "outputs": [],
   "source": [
    "%matplotlib widget\n",
    "import spb\n",
    "import sympy as sp\n",
    "from sympy import sin, cos, pi, sqrt, acos, simplify, atan\n",
    "sp.init_printing()"
   ]
  },
  {
   "cell_type": "code",
   "execution_count": 41,
   "metadata": {},
   "outputs": [],
   "source": [
    "# Helper functions\n",
    "from typing import List\n",
    "\n",
    "\n",
    "def homogeneous(rotation: sp.Matrix = sp.eye(3), translation: sp.Matrix = sp.zeros(3, 1)) -> sp.Matrix:\n",
    "    return rotation.row_join(translation).col_join(sp.Matrix([[0, 0, 0, 1]]))\n",
    "\n",
    "def dh(rotation, twist, displacement, offset):\n",
    "    rotation_mat = sp.Matrix([\n",
    "        [cos(rotation), -sin(rotation)*cos(twist),  sin(rotation)*sin(twist)],\n",
    "        [sin(rotation), cos(rotation)*cos(twist),   -cos(rotation)*sin(twist)],\n",
    "        [0,             sin(twist),                 cos(twist)],\n",
    "    ])\n",
    "    translation = sp.Matrix([\n",
    "        [offset*cos(rotation)],\n",
    "        [offset*sin(rotation)],\n",
    "        [displacement],\n",
    "    ])\n",
    "    return rotation_mat, translation\n",
    "\n",
    "def rotation(homogeneous: sp.Matrix):\n",
    "    return homogeneous[:3, :3]\n",
    "\n",
    "def translation(homogeneous: sp.Matrix):\n",
    "    return homogeneous[:3, 3:]\n",
    "\n",
    "def jacobian(transforms: List[sp.Matrix], joint_types: List[sp.Matrix], base_z: sp.Matrix = sp.Matrix([0, 0, 1])):\n",
    "    transforms_chained = [homogeneous()]\n",
    "    z_unit_vecs = []\n",
    "    # chain the transforms\n",
    "    for i, transform in enumerate(transforms):\n",
    "        transforms_chained.append(transforms_chained[-1] * transform)\n",
    "    # apply rotation of chained transforms to base z\n",
    "    for chained_transform in transforms_chained:\n",
    "        z_unit_vecs.append(rotation(chained_transform) * base_z)\n",
    "    \n",
    "    assert len(transforms_chained) == len(z_unit_vecs)\n",
    "\n",
    "    jacobian = sp.zeros(6, len(transforms))\n",
    "    for i, (transform, joint_type) in enumerate(zip(transforms, joint_types)):\n",
    "        if joint_type == 'revolute':\n",
    "            jacobian[:3, i] = z_unit_vecs[i].cross(translation(transforms_chained[-1]) - translation(transforms_chained[i]))\n",
    "            jacobian[3:, i] = z_unit_vecs[i]\n",
    "        elif joint_type == 'prismatic':\n",
    "            jacobian[:3, i] = z_unit_vecs[i]\n",
    "            jacobian[3:, i] = sp.Matrix([[0], [0], [0]])\n",
    "\n",
    "        # angular velocity\n",
    "\n",
    "    return jacobian"
   ]
  },
  {
   "cell_type": "code",
   "execution_count": 42,
   "metadata": {},
   "outputs": [
    {
     "data": {
      "text/latex": [
       "$\\displaystyle \\left[\\begin{matrix}\\cos{\\left(\\theta_{1} + \\theta_{2} + \\theta_{3} \\right)} & - \\sin{\\left(\\theta_{1} + \\theta_{2} + \\theta_{3} \\right)} & 0 & - 0.5 \\cos{\\left(\\theta_{1} \\right)} + 0.5 \\sqrt{2} \\cos{\\left(\\theta_{1} \\right)} + 0.25 \\sqrt{2} \\cos{\\left(\\theta_{1} + \\theta_{2} \\right)} + 0.1 \\cos{\\left(\\theta_{1} + \\theta_{2} + \\theta_{3} \\right)}\\\\\\sin{\\left(\\theta_{1} + \\theta_{2} + \\theta_{3} \\right)} & \\cos{\\left(\\theta_{1} + \\theta_{2} + \\theta_{3} \\right)} & 0 & - 0.5 \\sin{\\left(\\theta_{1} \\right)} + 0.5 \\sqrt{2} \\sin{\\left(\\theta_{1} \\right)} + 0.25 \\sqrt{2} \\sin{\\left(\\theta_{1} + \\theta_{2} \\right)} + 0.1 \\sin{\\left(\\theta_{1} + \\theta_{2} + \\theta_{3} \\right)}\\\\0 & 0 & 1 & 0\\\\0 & 0 & 0 & 1\\end{matrix}\\right]$"
      ],
      "text/plain": [
       "⎡cos(θ₁ + θ₂ + θ₃)  -sin(θ₁ + θ₂ + θ₃)  0  -0.5⋅cos(θ₁) + 0.5⋅√2⋅cos(θ₁) + 0.2\n",
       "⎢                                                                             \n",
       "⎢sin(θ₁ + θ₂ + θ₃)  cos(θ₁ + θ₂ + θ₃)   0  -0.5⋅sin(θ₁) + 0.5⋅√2⋅sin(θ₁) + 0.2\n",
       "⎢                                                                             \n",
       "⎢        0                  0           1                                     \n",
       "⎢                                                                             \n",
       "⎣        0                  0           0                                     \n",
       "\n",
       "5⋅√2⋅cos(θ₁ + θ₂) + 0.1⋅cos(θ₁ + θ₂ + θ₃)⎤\n",
       "                                         ⎥\n",
       "5⋅√2⋅sin(θ₁ + θ₂) + 0.1⋅sin(θ₁ + θ₂ + θ₃)⎥\n",
       "                                         ⎥\n",
       "  0                                      ⎥\n",
       "                                         ⎥\n",
       "  1                                      ⎦"
      ]
     },
     "metadata": {},
     "output_type": "display_data"
    },
    {
     "data": {
      "text/latex": [
       "$\\displaystyle \\left[\\begin{matrix}- 0.5 \\sqrt{2} \\sin{\\left(\\theta_{1} \\right)} + 0.5 \\sin{\\left(\\theta_{1} \\right)} - 0.25 \\sqrt{2} \\sin{\\left(\\theta_{1} + \\theta_{2} \\right)} - 0.1 \\sin{\\left(\\theta_{1} + \\theta_{2} + \\theta_{3} \\right)} & - 0.25 \\sqrt{2} \\sin{\\left(\\theta_{1} + \\theta_{2} \\right)} - 0.1 \\sin{\\left(\\theta_{1} + \\theta_{2} + \\theta_{3} \\right)} & - 0.1 \\sin{\\left(\\theta_{1} + \\theta_{2} + \\theta_{3} \\right)}\\\\- 0.5 \\cos{\\left(\\theta_{1} \\right)} + 0.5 \\sqrt{2} \\cos{\\left(\\theta_{1} \\right)} + 0.25 \\sqrt{2} \\cos{\\left(\\theta_{1} + \\theta_{2} \\right)} + 0.1 \\cos{\\left(\\theta_{1} + \\theta_{2} + \\theta_{3} \\right)} & 0.25 \\sqrt{2} \\cos{\\left(\\theta_{1} + \\theta_{2} \\right)} + 0.1 \\cos{\\left(\\theta_{1} + \\theta_{2} + \\theta_{3} \\right)} & 0.1 \\cos{\\left(\\theta_{1} + \\theta_{2} + \\theta_{3} \\right)}\\\\0 & 0 & 0\\\\0 & 0 & 0\\\\0 & 0 & 0\\\\1 & 1 & 1\\end{matrix}\\right]$"
      ],
      "text/plain": [
       "⎡-0.5⋅√2⋅sin(θ₁) + 0.5⋅sin(θ₁) - 0.25⋅√2⋅sin(θ₁ + θ₂) - 0.1⋅sin(θ₁ + θ₂ + θ₃) \n",
       "⎢                                                                             \n",
       "⎢-0.5⋅cos(θ₁) + 0.5⋅√2⋅cos(θ₁) + 0.25⋅√2⋅cos(θ₁ + θ₂) + 0.1⋅cos(θ₁ + θ₂ + θ₃) \n",
       "⎢                                                                             \n",
       "⎢                                     0                                       \n",
       "⎢                                                                             \n",
       "⎢                                     0                                       \n",
       "⎢                                                                             \n",
       "⎢                                     0                                       \n",
       "⎢                                                                             \n",
       "⎣                                     1                                       \n",
       "\n",
       " -0.25⋅√2⋅sin(θ₁ + θ₂) - 0.1⋅sin(θ₁ + θ₂ + θ₃)  -0.1⋅sin(θ₁ + θ₂ + θ₃)⎤\n",
       "                                                                      ⎥\n",
       " 0.25⋅√2⋅cos(θ₁ + θ₂) + 0.1⋅cos(θ₁ + θ₂ + θ₃)   0.1⋅cos(θ₁ + θ₂ + θ₃) ⎥\n",
       "                                                                      ⎥\n",
       "                       0                                  0           ⎥\n",
       "                                                                      ⎥\n",
       "                       0                                  0           ⎥\n",
       "                                                                      ⎥\n",
       "                       0                                  0           ⎥\n",
       "                                                                      ⎥\n",
       "                       1                                  1           ⎦"
      ]
     },
     "execution_count": 42,
     "metadata": {},
     "output_type": "execute_result"
    }
   ],
   "source": [
    "theta_1, theta_2, theta_3 = sp.symbols('theta_1 theta_2 theta_3')\n",
    "a_1 = 0.01 * (50*sqrt(2)-50)\n",
    "a_2 = 0.01 * (25*sqrt(2))\n",
    "a_3 = 0.01 * 10\n",
    "\n",
    "tf_1 = homogeneous(*dh(theta_1, 0, 0, a_1))\n",
    "tf_2 = homogeneous(*dh(theta_2, 0, 0, a_2))\n",
    "tf_3 = homogeneous(*dh(theta_3, 0, 0, a_3))\n",
    "tf = tf_1 * tf_2 * tf_3\n",
    "\n",
    "jac = jacobian([tf_1, tf_2, tf_3], ['revolute', 'revolute', 'revolute'])\n",
    "\n",
    "display(simplify(tf))\n",
    "simplify(jac)"
   ]
  },
  {
   "cell_type": "code",
   "execution_count": 43,
   "metadata": {},
   "outputs": [
    {
     "data": {
      "image/png": "[encoded data removed]",
      "text/latex": [
       "$\\displaystyle 13.6032013309821$"
      ],
      "text/plain": [
       "13.603201330982124"
      ]
     },
     "metadata": {},
     "output_type": "display_data"
    },
    {
     "data": {
      "image/png": "[encoded data removed]",
      "text/latex": [
       "$\\displaystyle 43.6764068711929$"
      ],
      "text/plain": [
       "43.67640687119285"
      ]
     },
     "metadata": {},
     "output_type": "display_data"
    },
    {
     "data": {
      "image/png": "[encoded data removed]",
      "text/latex": [
       "$\\displaystyle 145.0$"
      ],
      "text/plain": [
       "145.0"
      ]
     },
     "metadata": {},
     "output_type": "display_data"
    }
   ],
   "source": [
    "from math import degrees, radians\n",
    "\n",
    "\n",
    "sol=jac.evalf(subs={theta_1: radians(120), theta_2: radians(-120), theta_3: radians(-90)})*sp.Matrix([[radians(5)], [radians(120)], [radians(20)]])\n",
    "display(degrees(sol[0]))\n",
    "display(degrees(sol[1]))\n",
    "display(degrees(sol[5]))"
   ]
  },
  {
   "cell_type": "code",
   "execution_count": 44,
   "metadata": {},
   "outputs": [
    {
     "data": {
      "text/latex": [
       "$\\displaystyle \\left[\\begin{matrix}0.534148353946553\\\\-0.69285110817237\\\\0.158702754225817\\end{matrix}\\right]$"
      ],
      "text/plain": [
       "⎡0.534148353946553⎤\n",
       "⎢                 ⎥\n",
       "⎢-0.69285110817237⎥\n",
       "⎢                 ⎥\n",
       "⎣0.158702754225817⎦"
      ]
     },
     "execution_count": 44,
     "metadata": {},
     "output_type": "execute_result"
    }
   ],
   "source": [
    "jac = jac[[0, 1, 5], :]\n",
    "jac.inv().evalf(subs={theta_1: .53, theta_2: 1.122, theta_3: -1.652})*sp.Matrix([[0], [0.1], [0]])"
   ]
  },
  {
   "cell_type": "code",
   "execution_count": 46,
   "metadata": {},
   "outputs": [
    {
     "data": {
      "text/latex": [
       "$\\displaystyle \\left[\\begin{matrix}- 0.25 \\sqrt{2} \\sin{\\left(\\theta_{1} \\right)} \\cos{\\left(\\theta_{2} \\right)} - \\left(-0.5 + 0.5 \\sqrt{2}\\right) \\sin{\\left(\\theta_{1} \\right)} - 0.25 \\sqrt{2} \\sin{\\left(\\theta_{2} \\right)} \\cos{\\left(\\theta_{1} \\right)} & - 0.25 \\sqrt{2} \\sin{\\left(\\theta_{1} \\right)} \\cos{\\left(\\theta_{2} \\right)} - 0.25 \\sqrt{2} \\sin{\\left(\\theta_{2} \\right)} \\cos{\\left(\\theta_{1} \\right)}\\\\- 0.25 \\sqrt{2} \\sin{\\left(\\theta_{1} \\right)} \\sin{\\left(\\theta_{2} \\right)} + 0.25 \\sqrt{2} \\cos{\\left(\\theta_{1} \\right)} \\cos{\\left(\\theta_{2} \\right)} + \\left(-0.5 + 0.5 \\sqrt{2}\\right) \\cos{\\left(\\theta_{1} \\right)} & - 0.25 \\sqrt{2} \\sin{\\left(\\theta_{1} \\right)} \\sin{\\left(\\theta_{2} \\right)} + 0.25 \\sqrt{2} \\cos{\\left(\\theta_{1} \\right)} \\cos{\\left(\\theta_{2} \\right)}\\end{matrix}\\right]$"
      ],
      "text/plain": [
       "⎡-0.25⋅√2⋅sin(θ₁)⋅cos(θ₂) - (-0.5 + 0.5⋅√2)⋅sin(θ₁) - 0.25⋅√2⋅sin(θ₂)⋅cos(θ₁) \n",
       "⎢                                                                             \n",
       "⎣-0.25⋅√2⋅sin(θ₁)⋅sin(θ₂) + 0.25⋅√2⋅cos(θ₁)⋅cos(θ₂) + (-0.5 + 0.5⋅√2)⋅cos(θ₁) \n",
       "\n",
       " -0.25⋅√2⋅sin(θ₁)⋅cos(θ₂) - 0.25⋅√2⋅sin(θ₂)⋅cos(θ₁)⎤\n",
       "                                                   ⎥\n",
       " -0.25⋅√2⋅sin(θ₁)⋅sin(θ₂) + 0.25⋅√2⋅cos(θ₁)⋅cos(θ₂)⎦"
      ]
     },
     "metadata": {},
     "output_type": "display_data"
    },
    {
     "name": "stdout",
     "output_type": "stream",
     "text": [
      "0.0659688865125542\n",
      "0.0679981441964928\n",
      "0.0696300761267107\n",
      "0.0709119882824339\n",
      "0.0718817552597168\n",
      "0.0725704058511112\n",
      "0.0730038530735647\n",
      "0.0732040931009509\n",
      "0.0731900610590406\n",
      "0.0729782575149106\n",
      "0.0725832172481421\n",
      "0.0720178668075698\n",
      "0.0712938019282378\n",
      "0.0704215060969180\n",
      "0.0694105251784600\n",
      "0.0682696087620268\n",
      "0.0670068259902394\n",
      "0.0656296616273223\n",
      "0.0641450967115494\n",
      "0.0625596771356185\n",
      "0.0608795727849752\n",
      "0.0591106293598676\n",
      "0.0572584146616213\n",
      "0.0553282609070204\n",
      "0.0533253045322635\n",
      "0.0512545249597007\n",
      "0.0491207839422228\n",
      "0.0469288674082253\n",
      "0.0446835322714818\n",
      "0.0423895615607896\n",
      "0.0400518326616157\n",
      "0.0376754057865446\n",
      "0.0352656435991045\n",
      "0.0328283792731932\n",
      "0.0303701611336884\n",
      "0.0278986210703221\n",
      "0.0254230482278742\n",
      "0.0229553129477218\n",
      "0.0205114060024874\n",
      "0.0181140875244434\n",
      "0.0157975678237825\n",
      "0.0136158458367239\n",
      "0.0116569283150623\n",
      "0.0100625913000164\n",
      "0.00903636766257833\n",
      "0.00878458327296536\n",
      "0.00937090800904469\n",
      "0.0106557597801776\n",
      "0.0124198223467894\n",
      "0.0144830371115766\n"
     ]
    },
    {
     "data": {
      "application/vnd.jupyter.widget-view+json": {
       "model_id": "da7f23bebf2f44e9b5b1c6ed45581805",
       "version_major": 2,
       "version_minor": 0
      },
      "image/png": "[encoded data removed]",
      "text/html": [
       "\n",
       "            <div style=\"display: inline-block;\">\n",
       "                <div class=\"jupyter-widgets widget-label\" style=\"text-align: center;\">\n",
       "                    Figure\n",
       "                </div>\n",
       "                <img src='data:image/png;base64,iVBORw0KGgoAAAANSUhEUgAAAoAAAAHgCAYAAAA10dzkAAAAOXRFWHRTb2Z0d2FyZQBNYXRwbG90bGliIHZlcnNpb24zLjcuMSwgaHR0cHM6Ly9tYXRwbG90bGliLm9yZy/bCgiHAAAACXBIWXMAAA9hAAAPYQGoP6dpAABJs0lEQVR4nO3deVxVdcLH8e+9bFdRQEFBDSVXXMEVcSprYsLGStpEWzSzdUqdmJq0LHvqmWizrHRybCptcckWKzPLmGwsKZXFfTcVF0BUFkHWe54/LIonLFHg3HvP5/163dcMh9/B7zld7/l6OOd3bIZhGAIAAIBl2M0OAAAAgMZFAQQAALAYCiAAAIDFUAABAAAshgIIAABgMRRAAAAAi6EAAgAAWAwFEAAAwGIogAAAABZDAQQAALAYCiAAAIDFUAABAAAshgIIAABgMRRAAAAAi6EAAgAAWAwFEAAAwGIogAAAABZDAQQAALAYCiAAAIDFUAABAAAshgIIAABgMRRAAAAAi6EAAgAAWAwFEAAAwGIogAAAABZDAQQAALAYCiAAAIDFUAABAAAshgIIAABgMRRAAAAAi6EAAgAAWAwFEAAAwGIogAAAABZDAQQAALAYCiAAAIDFUAABAAAshgIIAABgMRRAAAAAi6EAAgAAWAwFEAAAwGIogAAAABZDAQQAALAYCiAAAIDFUAABAAAshgIIAABgMRRAAAAAi6EAAgAAWAwFEAAAwGIogAAAABZDAQQAALAYCiAAAIDFUAABAAAshgIIAABgMRRAAAAAi6EAAgAAWAwFEAAAwGK8zQ7gzpxOpw4dOqTmzZvLZrOZHQcAAJwBwzBUVFSktm3bym635rkwCuA5OHTokMLDw82OAQAAzkJWVpbOO+88s2OYggJ4Dpo3by7p1BsoICDA5DQAAOBMFBYWKjw8vPo4bkUUwHPw0699AwICKIAAALgZK1++Zc1ffAMAAFgYBRAAAMBiKIAAAAAWQwEEAACwGAogAACAxVAAAQAALIYCCAAAYDEUQAAAAIuhAAIAAFgMBRAAAMBiKIAAAAAWQwEEAACwGG+zAwAA4OkKSyt08PjJU6/8kzqUf1InK6rkNAw5DckwDDmdqvG1Icnh46U2gQ61CXSoXVATtQlqojaBDjl8vMzeJLg5CiAAAPWgtKJKGw4UaMOBfO0/VlJd9g4eP6missp6/bNa+vv+WAybqENwUw2MaKFB5werpb9vvf458FwUQAAA6sgwDB3MP6n0/flK33dc6fuPa8uhQlU6jdOu06Kpj9oGNVG7oCZqG9REAQ5v2Ww22W022W2S3W6Tzaafv7bZVFRaqcMFJ3W4oFSH8k/9b0l5lY4Vl+tYcbk2HyqUJL32zQ+SpK6hzTTo/JaKOT9YMR1bqnVzR6PsD7gfCiAAAGdgV26RVm4/orR9x5W277hyi8p+NaZ1cz/1bR+kTq2aqV2LU2Xvp8Ln73fuh1zDMFR4slIH80/qcMFJHSoo1Y7sIn3/w1HtyDlR/Xr7u/2SpI4h/orp2FKDOwbr0u6halYPGeAZbIZhnP6fK/hNhYWFCgwMVEFBgQICAsyOAwCoR4ZhaNPBQi3ffFjLN2Vr95HiGt/3ttvUo22A+rVvob7tg9S/Qwu1C2oim81mSt5jxeVa88Mxff/DUX2/55i2Zhfql0f4pr5eurJPWyUOClff8CDTcroCjt8UwHPCGwgAPEuV01DavuNavilbn2/O1sH8k9Xf8/GyaUinEA3uGKx+7YPU57wgNfF13ZsxCkoqtHbvMa3Ze0xfbs3Rnl8U2K6hzTRyQLiu6XeeJa8b5PhNATwnvIEAwP0ZhqE1PxzTR+sP6YvNOco78fOvdpv4eOmSyFaK7xmmSyJbK8DhY2LSs2cYhtbtO66Fa7L06cZDKq1wSpJ8vez6U89QjRoYrj90CpHdbo2zghy/KYDnhDcQALivwtIKfZh+UO98v087ck5ULw9weCuuR6iG9QzTRV1bedyUK4WlFfo485AWrc3SxoMF1cvPa9FEt11wvm6I6SBfb8+eJpjjNwXwnPAGAgD3s+lggd75fp8+yjykkvIqSafO9F0V1VZXRLXR4I7B8vHy7AL0k82HCvTu2ix9mHFQhaWnpqqJCG6qvw+L1OW9wjz2OkGO3xTAc8IbCADcQ2lFlZZuOKy3v9unzKz86uVdWjfTTYM76Op+7dz217v1obSiSovTDujFL3co70S5JKlf+yA9PLy7+ndoaXK6+sfxmwJ4TngDAYBrO1JUpn9/s0eL1mYpv6RC0qmbOYb1aqObYtpr0PktPfYs19k4UVapOf/do1f/u0cnK06dHR3WM0x/H9ZNHVs1Mzld/eH4TQE8J7yBAMA15RaV6l9f79E73++rvuGhXVAT3RDTXiMHhKtVcz+TE7q2nMJSvbBih95dlyWncWrKmxti2mvipV0U0sz99x3HbwrgOeENBACuJaewVK+s3K0Fa/arrPJU8YsKD9K9l3TWHyNby8sid7nWl+3ZRXrqs636avsRSVIzP29NurSLxl9wvlvfMczxmwJ4TngDAYBrOFxwUq+s3K2Fa7NU/mPx69c+SJPiuuqiLiH8mvccrd6Vpyc/26pNB089eu6CziF6fmSUWge456PmOH5LbnWb06xZsxQRESGHw6GYmBitWbPmN8cvXrxYkZGRcjgc6t27t5YtW1bj+zabrdbXs88+25CbAQCoJwfzT2rqko0a+sxKvZm6T+WVTg2MaKG3x8fo/buHaGjXVpS/ejCkc4g+vucCPXl1bzl87PpmV54uf3GVvtqea3Y0nCW3KYCLFi1SUlKSpk2bpvT0dEVFRSk+Pl65ubW/+VavXq3Ro0dr/PjxysjIUEJCghISErRp06bqMYcPH67xev3112Wz2XTttdc21mYBAM5CUWmFkj/bqkueXam3v9uv8iqnYs5vqfm3x+jdO2N1AWf96p39x+sAl064QJFhzXW0uFzj3lirJ5ZuUVllldnxUEdu8yvgmJgYDRw4UDNnzpQkOZ1OhYeHa8KECZo8efKvxicmJqq4uFhLly6tXjZ48GBFR0dr9uzZtf4ZCQkJKioqUkpKyhll4hQyADSuKqeh99Ky9OznO6qf2DG4Y0v9Na6rBncMNjmddZRWVOmpz7Zp7uq9kqSebQP08ui+bnOnMMdvNzkDWF5errS0NMXFxVUvs9vtiouLU2pqaq3rpKam1hgvSfHx8acdn5OTo08//VTjx48/bY6ysjIVFhbWeAEAGsf3e47qqpnf6MH3NyrvRJnOD/HXa2MHaMHtgyl/jczh46XHruqpf48ZoBZNfbT5UKGuePkbLV6XJTc5r2R5blEA8/LyVFVVpdDQ0BrLQ0NDlZ2dXes62dnZdRo/b948NW/eXNdcc81pcyQnJyswMLD6FR4eXsctAQDUVdaxEv3lnTQlzvlOmw8VqrnDW1OHd9fnf71Il3YP5Ve9JorrEarPJl2kwR1bqqS8Sg+8t0GTFmaqqLTC7Gj4HW5RABvD66+/rhtvvFEOx+nvaJoyZYoKCgqqX1lZWY2YEACspbisUs9+vk2XPv+1lm3Mlt0m3RDTXivvv1i3XdjR459X6y7CAh1657bBeiC+m7zsNn28/pCuePkb7TtabHY0/AZvswOciZCQEHl5eSknJ6fG8pycHIWFhdW6TlhY2BmPX7VqlbZv365Fixb9Zg4/Pz/5+bn/BJgA4MoMw9Cyjdn6n082K7fo1HV+QzoF65Ereqh7G2ter+XqvOw23XNJZw3uGKyJCzK072iJrpudqjdvHcR/MxflFv988vX1Vf/+/WvcnOF0OpWSkqLY2Nha14mNjf3VzRwrVqyodfxrr72m/v37Kyoqqn6DAwDqJKewVHe+laZ75qcrt6hMHYKbas7N/fXObTEUCTfQv0MLfXjPEEWGNdeRojIl/itV6/YeMzsWauEWBVCSkpKS9Oqrr2revHnaunWr7r77bhUXF2vcuHGSpDFjxmjKlCnV4ydNmqTly5dr+vTp2rZtmx577DGtW7dO9957b42fW1hYqMWLF+u2225r1O0BAPzMMAwtXLNfcc9/rS+25MjbbtPEP3bWF/ddpMt6hnGdnxtp3dyhRXfEakCHFiosrdRNr33PfIEuyC1+BSydmtblyJEjevTRR5Wdna3o6GgtX768+kaP/fv3y27/uc8OGTJE8+fP19SpU/XQQw+pS5cuWrJkiXr16lXj5y5cuFCGYWj06NGNuj0AgFP2HS3WlA82avXuo5KkqPMC9dS1fTjj58YCm/rorfExuvudNK3cfkS3z1un6SOjNCK6ndnR8CO3mQfQFTGPEACcvcoqp974dq+mr9iu0gqnHD523X9ZN437w/k8s9dDVFQ5df/i9foo85BsNunxq3rq5tgIs2Nx/JYbnQEEAHiOrYcL9eD7G7ThQIGkUzd5JF/TWx2C/U1Ohvrk42XXCyOjFdjER2+m7tMjH23W8ZIKTfhjZ36tbzIKIACg0VQ5Df3zq116MWWnKp1G9Zx+IweEUwg8lN1u0/9c1VNBTX31UspOPb9ih46XlOuR4T1k50yvaSiAAIBGceB4ie5blKm1e49Lki7rEaonEnopNOD086/CM9hsNiX9qataNPXR/3yyRW98u1cFJRV65ro+8vZym/tRPQoFEADQ4D5ef0gPf7hRRaWVaubnrcdH9NTVfdtx1s9ixv3hfAU19dH9izfog4yDaurnpSdG9OJ9YAIKIACgwZwoq9S0jzbr/fQDkqS+7YP0YmJftQ9uanIymOXqvufJ4e2lv8xP19vf7Vd4i6a6c2gns2NZDuddAQANIjMrX8NfWqX30w/IbpMm/rGz3r0zlvIHXd67jaYO7yFJSv5smz7dcNjkRNbDGUAAQL2qchp6ZeUuvfDlTlU5DbULaqIXEqM16PyWZkeDC7n1DxHKOlaiuav36r53MxUa4KcBEbxHGgtnAAEA9eZQ/kmNfvU7PffFDlU5DV3Rp42WTbqQ8odfsdlseuSKHorrHqrySqduf3OdfsgrNjuWZVAAAQD1YtXOIxr+0iqt+eGY/H299Nz1UXp5dF8FNvExOxpclJfdppdGR6vPeYE6XlKhcW+s0bHicrNjWQIFEABwTpxOQ7O+2qUxr6/R8ZIK9WoXoE8nXqjr+p/H3Z34XU19vfXa2IE6r0UT7T1aotvmrVVpRZXZsTweBRAAcNYKTlbojrfW6dnPt8swpFEDw/XeXUMUEcITPXDmWjX309xxAxXg8Fb6/nwlvZspp5Mn1TYkCiAA4KxsPVyoq2Z+oy+35srX266nr+2tp67tI4ePl9nR4IY6t26uOWMGyMfLpmUbs/XU8m1mR/JoFEAAQJ19mHFAV//zW+07WqJ2QU30/l1DlDiwvdmx4OYGdwzWs9dFSZLm/HeP3krda24gD8Y0MACAM1Ze6dQ/Pt2iean7JEkXdW2lFxOj1cLf1+Rk8BQJfdsp61iJpq/YoWkfb1bboCa6tHuo2bE8DmcAAQBnJLugVKPmpFaXv4mXdtEbtwyk/KHe3fvHzkocEC6nIa3amWd2HI/EGUAAwO9K339cd7yZprwTZQpweOuFxGjOyqDB2Gw2/e/VvTSkc7CuimprdhyPRAEEAPymj9cf0v2L16u80qnIsOb618391SGYu3zRsHy87BoR3c7sGB6LAggAqJVhGHrhy516KWWnJCmue6heHBUtfz8OHYC7428xAOBXSiuqdP/i9Vq64bAk6Y6LOurBYZHysjOxM+AJKIAAgBpyi0p1+5tpWp+VL2+7Tf+4uhdTvAAehgIIAKi25VChbpu3VocKShXU1Eev3NhfsZ2CzY4FoJ5RAAEAkqQVW3I0aWGGSsqr1DHEX6/dMlDn80g3wCNRAAHA4gzD0Kur9ij5s20yDGlIp2C9cmN/BTb1MTsagAZCAQQAC6tyGnr8k83VkzuPHtRej4/oKR8vnhMAeDIKIABYVGlFlZLezdSyjdmSpKnDu2v8BefLZuNOX8DTUQABwIIKTlbojjfX6fsfjsnHy6bpI6N54gJgIRRAALCYnMJSjX19jbZlF6mZn7fm3NxfQzqHmB0LQCOiAAKAhezKPaGxr6/RwfyTatXcT3PHDVTPtoFmxwLQyCiAAGARafuOa/y8tcovqdD5If5689ZBCm/Z1OxYAExAAQQAC0jZmqN75qertMKpqPAgvT52gIKb+ZkdC4BJKIAA4OHeXZulKR9uVJXT0CXdWmnWjf3U1JePf8DK+AQAAA82++vdeuqzbZKk6/qfp+RrejPHHwAKIAB4IsMw9MKKHXrpP7skSX+5uJMeiO/GHH8AJFEAAcDjGIah//10q1775gdJ0uTLI3XX0E4mpwLgSiiAAOBBqpyGpi7ZqAVrsiRJj4/oqTGxEeaGAuByKIAA4CEqqpy6f/F6fZR5SHab9PS1fXT9gHCzYwFwQRRAAPAAZZVVund+hlZsyZG33aYXR/XV8D5tzI4FwEVRAAHAzZ0sr9Idb63Tqp158vW2a/ZN/fTHyFCzYwFwYRRAAHBjRaUVGj93ndbsPaamvl7695gBPNcXwO+iAAKAm8ovKdfY19do/YECNXd4a+64QerfoYXZsQC4AQogALih48XluvHf32vL4UK19PfVm7cOUq92gWbHAuAm3GY6+FmzZikiIkIOh0MxMTFas2bNb45fvHixIiMj5XA41Lt3by1btuxXY7Zu3aqrrrpKgYGB8vf318CBA7V///6G2gQAqBe/LH8hzfy06I7BlD8AdeIWBXDRokVKSkrStGnTlJ6erqioKMXHxys3N7fW8atXr9bo0aM1fvx4ZWRkKCEhQQkJCdq0aVP1mN27d+uCCy5QZGSkVq5cqQ0bNuiRRx6Rw+ForM0CgDrLLynXTa/9XP4W3hGjLqHNzY4FwM3YDMMwzA7xe2JiYjRw4EDNnDlTkuR0OhUeHq4JEyZo8uTJvxqfmJio4uJiLV26tHrZ4MGDFR0drdmzZ0uSRo0aJR8fH7311ltnnauwsFCBgYEqKChQQEDAWf8cADgT+SWnzvxtPnSq/C24nfIHnA2O325wBrC8vFxpaWmKi4urXma32xUXF6fU1NRa10lNTa0xXpLi4+OrxzudTn366afq2rWr4uPj1bp1a8XExGjJkiW/maWsrEyFhYU1XgDQGGqWP1/KH4Bz4vIFMC8vT1VVVQoNrTmnVWhoqLKzs2tdJzs7+zfH5+bm6sSJE3rqqac0bNgwffHFF7r66qt1zTXX6Ouvvz5tluTkZAUGBla/wsOZYR9Aw/vp174/l7/BlD8A58TlC2BDcDqdkqQRI0bovvvuU3R0tCZPnqwrrrii+lfEtZkyZYoKCgqqX1lZWY0VGYBF/VT+Nh0sVLC/r+ZT/gDUA5efBiYkJEReXl7KycmpsTwnJ0dhYWG1rhMWFvab40NCQuTt7a0ePXrUGNO9e3d98803p83i5+cnPz+/s9kMAKizgpKKGuVvwR2D1ZXyB6AeuPwZQF9fX/Xv318pKSnVy5xOp1JSUhQbG1vrOrGxsTXGS9KKFSuqx/v6+mrgwIHavn17jTE7duxQhw4d6nkLAKDuKH8AGpLLnwGUpKSkJI0dO1YDBgzQoEGDNGPGDBUXF2vcuHGSpDFjxqhdu3ZKTk6WJE2aNElDhw7V9OnTNXz4cC1cuFDr1q3TnDlzqn/mAw88oMTERF100UW65JJLtHz5cn3yySdauXKlGZsIANWKSis05vXvtfFgQfWvfSl/AOqTWxTAxMREHTlyRI8++qiys7MVHR2t5cuXV9/osX//ftntP5/MHDJkiObPn6+pU6fqoYceUpcuXbRkyRL16tWreszVV1+t2bNnKzk5WRMnTlS3bt30/vvv64ILLmj07QOAn5SUV+rWuWu1/kCBWjT10fzbB6tbGOUPQP1yi3kAXRXzCAGoT2WVVbpt3jqt2pmn5g5vLbidJ3wADYHjtxtcAwgAVlBR5dS98zO0ameemvp6ae64gZQ/AA2GAggAJqtyGrp/8Xqt2JIjX2+7/j1mgPp3aGl2LAAejAIIACYyDEMPf7hRH2Uekrfdptk39dOQziFmxwLg4SiAAGASwzD0+NItWrg2S3ab9OKovvpjZOjvrwgA54gCCAAmeX7FDr3x7V5J0tPX9tHwPm3MDQTAMiiAAGCCf67cpZf/s0uS9PiInrp+AM8WB9B4KIAA0Mjmrd6rZ5afehLR5MsjNSY2wtxAACyHAggAjWhJxkFN+3izJGniHzvrrqGdTE4EwIoogADQSFZuz9X9i9dLkm4ZEqH7/tTV5EQArIoCCACNIH3/cd39droqnYZGRLfVo1f0kM1mMzsWAIuiAAJAA9uZU6Rb567VyYoqDe3aSs9eFyW7nfIHwDwUQABoQAfzT2rM62uUX1Kh6PAgvXJTP/l689ELwFx8CgFAAzlWXK4xr32vwwWl6ty6md64ZaCa+nqbHQsAKIAA0BCKyyo1bu5a7T5SrLaBDr156yC18Pc1OxYASKIAAkC9K6906q6307Q+K18tmvrozfExahvUxOxYAFCNAggA9cjpNPS3xeu1ameemvp66Y1xg9S5dTOzYwFADRRAAKgnhmHo8aVb9Mn6Q/Lxsmn2Tf0VHR5kdiwA+BUKIADUk1e+3q25q/fKZpOeuz5KF3VtZXYkAKgVBRAA6sGSjIPVz/d9ZHgPjYhuZ3IiADg9CiAAnKPVu/L0wHunHvF2+4Xn69YLzjc5EQD8NgogAJyDbdmFuvOtNFVUGRrep42mXN7d7EgA8LsogABwlg4XnNS4N9aqqKxSgyJaavr1POINgHugAALAWSgsrdC4N9bqcEGpOrXy15wx/eXw8TI7FgCcEQogANRReaVTd7+dpm3ZRWrV3E9zxw1SUFOe8gHAfVAAAaAODMPQ5Pc36NtdR09N9HzLQIW3bGp2LACoEwogANTB9C926IOMg/Ky2/TPG/upV7tAsyMBQJ1RAAHgDM3/fr9mfrVLkpR8dW9d3K21yYkA4OxQAAHgDHy1PVdTl2yUJE26tItGDgw3OREAnD0KIAD8jq2HC3XvO+lyGtJ1/c/TX+O6mB0JAM4JBRAAfkNuYanGz12r4vIqDekUrCev7i2bjbn+ALg3CiAAnMbJ8ird9uY6HSooVcdW/nrlxv7y9eZjE4D745MMAGrhdBq6b1GmNhwoUIumPnrjloEKbOpjdiwAqBcUQACoxTOfb9fyzdny9bJrzpgB6hDsb3YkAKg3FEAA+H8Wrd2v2V/vliQ9c10fDYxoaXIiAKhfFEAA+IXVu/L08IebJJ2a7iWhbzuTEwFA/aMAAsCPduWe0F1vp6nSaeiqqLZM9wLAY1EAAUDS0RNlunXuWhWWVqp/hxZ65ro+TPcCwGNRAAFYXmlFle58K037j5UovGUTzbm5vxw+XmbHAoAGQwEEYGmGYWjKBxu1bt9xNXd4641bBiq4mZ/ZsQCgQVEAAVja7K/36MOMg/Ky2zT7pv7q3Lq52ZEAoMFRAAFY1pdbcvTM59skSY9d2UN/6BxiciIAaBxuVQBnzZqliIgIORwOxcTEaM2aNb85fvHixYqMjJTD4VDv3r21bNmyGt+/5ZZbZLPZaryGDRvWkJsAwEVszy7SpIUZMgzppsHtdXNshNmRAKDRuE0BXLRokZKSkjRt2jSlp6crKipK8fHxys3NrXX86tWrNXr0aI0fP14ZGRlKSEhQQkKCNm3aVGPcsGHDdPjw4erXggULGmNzAJjoWHG5xs9bq+LyKsV2DNa0K3uaHQkAGpXNMAzD7BBnIiYmRgMHDtTMmTMlSU6nU+Hh4ZowYYImT578q/GJiYkqLi7W0qVLq5cNHjxY0dHRmj17tqRTZwDz8/O1ZMmSs8pUWFiowMBAFRQUKCAg4Kx+BoDGVV7p1M2vfa/vfzimDsFNteQvf1ALf1+zYwFoRBy/3eQMYHl5udLS0hQXF1e9zG63Ky4uTqmpqbWuk5qaWmO8JMXHx/9q/MqVK9W6dWt169ZNd999t44ePXraHGVlZSosLKzxAuA+DMPQtI836fsfjqmZn7f+PWYA5Q+AJblFAczLy1NVVZVCQ0NrLA8NDVV2dnat62RnZ//u+GHDhunNN99USkqKnn76aX399de6/PLLVVVVVevPTE5OVmBgYPUrPDz8HLcMQGOat3qvFqzJks0mvTy6r7qEcscvAGvyNjuAmUaNGlX9/3v37q0+ffqoU6dOWrlypS699NJfjZ8yZYqSkpKqvy4sLKQEAm5i1c4jeuLTrZKkKZdH6pLI1iYnAgDzuMUZwJCQEHl5eSknJ6fG8pycHIWFhdW6TlhYWJ3GS1LHjh0VEhKiXbt21fp9Pz8/BQQE1HgBcH17jpzQPe+kq8pp6Np+5+n2CzuaHQkATOUWBdDX11f9+/dXSkpK9TKn06mUlBTFxsbWuk5sbGyN8ZK0YsWK046XpAMHDujo0aNq06ZN/QQHYLqCkxW6bd46FZZWql/7ID15TS+e8QvA8tyiAEpSUlKSXn31Vc2bN09bt27V3XffreLiYo0bN06SNGbMGE2ZMqV6/KRJk7R8+XJNnz5d27Zt02OPPaZ169bp3nvvlSSdOHFCDzzwgL777jvt3btXKSkpGjFihDp37qz4+HhTthFA/apyGpq4IEN78orVNtChf908QH7ePOMXANzmGsDExEQdOXJEjz76qLKzsxUdHa3ly5dX3+ixf/9+2e0/99khQ4Zo/vz5mjp1qh566CF16dJFS5YsUa9evSRJXl5e2rBhg+bNm6f8/Hy1bdtWl112mZ544gn5+fEcUMATPPv5dn2944gcPnbNGTNArZrzdxsAJDeaB9AVMY8Q4Lo+Xn9IExdkSDp1x++VUW1NTgTAVXD8dqNfAQPAmdp8qEB/f2+9JOmuoZ0ofwDw/1AAAXiUY8XluuPNNJVWOHVR11Z6IL6b2ZEAwOVQAAF4jMoqp+55J10H808qIripXh7VV1527vgFgP+PAgjAYzy5bJtS9xyVv6+X5owZoMCmPmZHAgCXRAEE4BHeTzug17/9QZI0fWS0uvKYNwA4LQogALe34UC+pny4UZI08dIuGtbr9E/8AQBQAAG4uSNFZbrzrTSVVzoV1721/nppF7MjAYDLowACcFvllU795Z00HS4oVadW/nohMVp2bvoAgN9FAQTgtp5YukVr9x5Xcz9vzRkzQM0d3PQBAGeCAgjALb27LktvfbdPNpv04uhodWrVzOxIAOA2KIAA3M7GAwWaumSTJOm+uK76Y2SoyYkAwL1QAAG4lePF5brr7Z9v+rj3ks5mRwIAt0MBBOA2qpyGJi7MqH7Sx/SR3PQBAGeDAgjAbTy/YrtW7cxTEx8vzb65vwKbcNMHAJwNCiAAt/DF5mzN+mq3JOmpa3srMizA5EQA4L4ogABc3p4jJ/S3d9dLksb9IUIjotuZnAgA3BsFEIBLKy6r1J1vpamorFKDIlrqoT93NzsSALg9CiAAl2UYhv7+3gbtzD2h0AA/zbyxr3y8+NgCgHPFJykAl/XvVT/o042H5eNl0z9v7KfWzR1mRwIAj0ABBOCSUncf1VPLt0mSHrmih/p3aGlyIgDwHBRAAC4nu6BU985PV5XT0DV92+nmwR3MjgQAHoUCCMClVFQ5dc/8dB0tLlf3NgH6x9W9ZbMx2TMA1CcKIACXkrxsm9L2HVdzh7dm39RPTXy9zI4EAB6HAgjAZXy64bBe//YHSdL066PUIdjf5EQA4JkogABcwu4jJ/T3905N9nzn0I66rGeYyYkAwHNRAAGYrqS8Une/nabi8irFnN9SD1zWzexIAODRKIAATGUYhqZ+uEk7ck6oVXM/vXxDX3kz2TMANCg+ZQGYav6a/fog46C87DbNHN2XyZ4BoBFQAAGYZsOBfP3Px1skSX+P76aYjsEmJwIAa6AAAjBFfkm57n47XeVVTl3WI1R3XNTR7EgAYBkUQACNzuk0dN+iTB3MP6kOwU317PVRTPYMAI2IAgig0f1z5S59tf2I/Lzt+ueN/RTYxMfsSABgKRRAAI1q9a48Pb9ihyTpiRG91LNtoMmJAMB6KIAAGk1uYakmLsyQ05BGDjhPIweGmx0JACyJAgigUVRWOTVxYYbyTpQrMqy5Hh/Ry+xIAGBZFEAAjeLFlJ36bs8x+ft6adaN/eTw8TI7EgBYFgUQQIP7744jmvnVLknSk9f0VqdWzUxOBADWRgEE0KCyC0r110WZMgzpxpj2GhHdzuxIAGB5FEAADaayyqkJC9J1rLhcPdsG6JErepgdCQAgCiCABvTcFzu0du9xNfPz1qwbuO4PAFwFBRBAg/jPthzN/nq3JOmZ6/ooIsTf5EQAgJ+4VQGcNWuWIiIi5HA4FBMTozVr1vzm+MWLFysyMlIOh0O9e/fWsmXLTjv2rrvuks1m04wZM+o5NWA9B/NPKund9ZKksbEd9OfebUxOBAD4JbcpgIsWLVJSUpKmTZum9PR0RUVFKT4+Xrm5ubWOX716tUaPHq3x48crIyNDCQkJSkhI0KZNm3419sMPP9R3332ntm3bNvRmAB6vvNKpe+enK7+kQn3OC9RDw7ubHQkA8P+4TQF8/vnndfvtt2vcuHHq0aOHZs+eraZNm+r111+vdfyLL76oYcOG6YEHHlD37t31xBNPqF+/fpo5c2aNcQcPHtSECRP0zjvvyMeH55EC5+qZ5duUsT9fzR2nrvvz8+a6PwBwNW5RAMvLy5WWlqa4uLjqZXa7XXFxcUpNTa11ndTU1BrjJSk+Pr7GeKfTqZtvvlkPPPCAevbs2TDhAQv5YnO2/v3ND5Kk566PUnjLpiYnAgDUxtvsAGciLy9PVVVVCg0NrbE8NDRU27Ztq3Wd7OzsWsdnZ2dXf/3000/L29tbEydOPKMcZWVlKisrq/66sLDwTDcB8HgHjpfo/sWnrvsbf8H5iu8ZZnIiAMDpuMUZwIaQlpamF198UXPnzpXNZjujdZKTkxUYGFj9Cg/nQfaAJFVUOTVxQYYKSysVFR6kB4dFmh0JAPAb3KIAhoSEyMvLSzk5OTWW5+TkKCys9rMMYWFhvzl+1apVys3NVfv27eXt7S1vb2/t27dPf/vb3xQREVHrz5wyZYoKCgqqX1lZWee+cYAHmP7FDqX/eN3fzNF95evtFh8tAGBZbvEp7evrq/79+yslJaV6mdPpVEpKimJjY2tdJzY2tsZ4SVqxYkX1+JtvvlkbNmxQZmZm9att27Z64IEH9Pnnn9f6M/38/BQQEFDjBVjdyu25P8/3d20frvsDADfgFtcASlJSUpLGjh2rAQMGaNCgQZoxY4aKi4s1btw4SdKYMWPUrl07JScnS5ImTZqkoUOHavr06Ro+fLgWLlyodevWac6cOZKk4OBgBQcH1/gzfHx8FBYWpm7dujXuxgFuKqewtHq+vzGxHXQ58/0BgFtwmwKYmJioI0eO6NFHH1V2draio6O1fPny6hs99u/fL7v95xOaQ4YM0fz58zV16lQ99NBD6tKli5YsWaJevXqZtQmAR6lyGpq4IEPHisvVo02AHvoz8/0BgLuwGYZhmB3CXRUWFiowMFAFBQX8OhiW88KKHXoxZaf8fb30yYQL1LFVM7MjAcAZ4fjtJtcAAnAtq3fl6aX/7JQkPXlNb8ofALgZCiCAOjlSVKZJizJlGNKogeEaEd3O7EgAgDqiAAI4Y06noaR3M3WkqExdQ5tp2pU8QQcA3BEFEMAZe+Xr3Vq1M08OH7tm3dBPTXx5zi8AuCMKIIAzsnbvMT2/Yock6fERvdQltLnJiQAAZ4sCCOB35ZeUa9KCDFU5DV3dt52u73+e2ZEAAOeAAgjgNxmGob+/t0GHCkp1foi/nkjodcbPzwYAuCYKIIDf9NZ3+/TFlhz5etn18ui+aubnNvPHAwBOgwII4LS2HCrU/366VZI0+fJI9WoXaHIiAEB9oAACqFVJeaXuXZCu8kqnLo1srXF/iDA7EgCgnlAAAdTqsY83a8+RYoUG+OnZ66O47g8APAgFEMCvfJR5UO+uOyCbTZqR2Fct/X3NjgQAqEcUQAA17DtarIc/3CRJmvDHLortFGxyIgBAfaMAAqhWXunUhAUZOlFWqUERLTXxj53NjgQAaAAUQADVnvtiuzYcKFBgEx/NGBUtby8+IgDAE/HpDkCStHJ7rub8d48k6dnr+qhtUBOTEwEAGgoFEIByC0v1t3fXS5LGxHbQZT3DTE4EAGhIFEDA4pxOQ0nvrtfR4nJFhjXXQ3/ubnYkAEADowACFvev/+7RN7vy1MTHSzNv6CeHj5fZkQAADYwCCFhYZla+pn+xXZL02FU91Ll1M5MTAQAaAwUQsKii0gpNXJChSqeh4X3aaOSAcLMjAQAaCQUQsKhHP9qs/cdK1C6oiZ68ujePegMAC6EAAhb0YcYBfZhxUHab9OKoaAU28TE7EgCgEVEAAYvZd7RYU3981Ntf47pqQERLkxMBABobBRCwkPJKpyYuyFBxeZUGnd9S91zCo94AwIoogICFPL9ih9b/9Ki3xGh52bnuDwCsiAIIWMQ3O/P0r//uliQ9fW1vHvUGABZGAQQs4OiJMt33bqYMQ7ohpr2G9WpjdiQAgIkogICHMwxDD7y3QUeKytSldTM9MryH2ZEAACajAAIebt7qvfrPtlz5etv10ui+auLLo94AwOoogIAH23q4UE8u2yZJevjP3dW9TYDJiQAAroACCHiok+VVmrggQ+VVTsV1b60xsR3MjgQAcBEUQMBD/WPZFu3MPaFWzf309LV9eNQbAKAaBRDwQF9sztbb3+2XJD0/MkrBzfxMTgQAcCUUQMDD5BSW6sH3N0iS7riooy7s0srkRAAAV0MBBDyI02ko6d1MHS+pUM+2Abr/sm5mRwIAuCAKIOBBXl21R9/uOqomPl56aXRf+XrzVxwA8GscHQAPsfFAgZ79fLskadqVPdSpVTOTEwEAXBUFEPAAxWWVmrgwQ5VOQ5f3ClPiwHCzIwEAXBgFEPAAj3+yRT/kFatNoEPJ1/RmyhcAwG+iAAJu7tMNh7VoXZZsNun5kdEKauprdiQAgItzqwI4a9YsRUREyOFwKCYmRmvWrPnN8YsXL1ZkZKQcDod69+6tZcuW1fj+Y489psjISPn7+6tFixaKi4vT999/35CbANSrg/knNeWDU1O+/OXiTortFGxyIgCAO3CbArho0SIlJSVp2rRpSk9PV1RUlOLj45Wbm1vr+NWrV2v06NEaP368MjIylJCQoISEBG3atKl6TNeuXTVz5kxt3LhR33zzjSIiInTZZZfpyJEjjbVZwFmrchq6b2GmCksrFRUepL/GdTU7EgDATdgMwzDMDnEmYmJiNHDgQM2cOVOS5HQ6FR4ergkTJmjy5Mm/Gp+YmKji4mItXbq0etngwYMVHR2t2bNn1/pnFBYWKjAwUF9++aUuvfTS38300/iCggIFBASc5ZYBZ2fmf3bquS92yN/XS59OvFARIf5mRwIAt8Dx203OAJaXlystLU1xcXHVy+x2u+Li4pSamlrrOqmpqTXGS1J8fPxpx5eXl2vOnDkKDAxUVFRU/YUHGkDG/uN64cudkqT/GdGL8gcAqBNvswOciby8PFVVVSk0NLTG8tDQUG3btq3WdbKzs2sdn52dXWPZ0qVLNWrUKJWUlKhNmzZasWKFQkJCav2ZZWVlKisrq/66sLDwbDYHOCcnyio1aWGmqpyGrujTRtf2a2d2JACAm3GLM4AN6ZJLLlFmZqZWr16tYcOGaeTIkae9rjA5OVmBgYHVr/Bw5lpD45v20WbtP1aidkFN9I+rmfIFAFB3blEAQ0JC5OXlpZycnBrLc3JyFBYWVus6YWFhZzTe399fnTt31uDBg/Xaa6/J29tbr732Wq0/c8qUKSooKKh+ZWVlncNWAXX3yfpDej/9gOw26YXEaAU28TE7EgDADblFAfT19VX//v2VkpJSvczpdColJUWxsbG1rhMbG1tjvCStWLHitON/+XN/+WveX/Lz81NAQECNF9BYDuaf1EMfbpQk/eXizhp0fkuTEwEA3JVbXAMoSUlJSRo7dqwGDBigQYMGacaMGSouLta4ceMkSWPGjFG7du2UnJwsSZo0aZKGDh2q6dOna/jw4Vq4cKHWrVunOXPmSJKKi4v1j3/8Q1dddZXatGmjvLw8zZo1SwcPHtT1119v2nYCtflpypei0kpFhwdpUlwXsyMBANyY2xTAxMREHTlyRI8++qiys7MVHR2t5cuXV9/osX//ftntP5/QHDJkiObPn6+pU6fqoYceUpcuXbRkyRL16tVLkuTl5aVt27Zp3rx5ysvLU3BwsAYOHKhVq1apZ8+epmwjcDqzv96tNXuPyd/XSy+OipaPl1ucvAcAuCi3mQfQFTGPEBpDZla+rntltSqdhp67PkrX9T/P7EgA4NY4frvJNYCAVZ2a8iVDlU5Dw5nyBQBQTyiAgAt77OPN2ne0RG0DHXoygSlfAAD1gwIIuKilGw7pvbRfTPnSlClfAAD1gwIIuKCD+Sf10Ac/T/kS0zHY5EQAAE9CAQRcTJXTUNKiTBWWViqKKV8AAA2AAgi4mNlf79b3P/w45UsiU74AAOofRxbAhazPytcLK3ZIkh67qqciQvxNTgQA8EQUQMBFFJdV6q+LMk9N+dK7DfP9AQAaDAUQcBGPf7JFP+QVq02gQ09ezZQvAICGQwEEXMBnGw9r0bos2WzS8yOZ8gUA0LAogIDJDhec1OQfp3y5a2gnxXZiyhcAQMOiAAImcjoNJS1ar4KTFepzXqDui+tqdiQAgAVQAAETzVm1R6l7jqqJj5dmJEbL15u/kgCAhsfRBjDJxgMFmv7FdknSY1f1UMdWzUxOBACwCgogYIKS8kpNWpihiipDw3qGaeSAcLMjAQAshAIImOCJpVu1J69YYQEOPXUtU74AABoXBRBoZJ9vztaCNft/nPIlSkFNfc2OBACwGAog0IhyCks1+f0NkqQ7LuyoIZ1DTE4EALAiCiDQSJxOQ0nvZup4SYV6tQvQ3y7rZnYkAIBFUQCBRvLqqj36dtepKV9eHNWXKV8AAKbhCAQ0gk0HC/Tcj1O+PHplD3ViyhcAgIkogEADKymv1MQFp6Z8ie8ZqlEDmfIFAGAuCiDQwJ5YuuXnKV+u6cOULwAA01EAgQa0fFO2FqzJqp7ypYU/U74AAMxHAQQaSHZBqSZ/8OOULxcx5QsAwHVQAIEG8NOUL/klFerdLlB/+xNTvgAAXAcFEGgAc1bt0erdp6Z8mTEqmilfAAAuhaMSUM82HijQc5+fmvJlGlO+AABcEAUQqEfFZZWauDBDlU5Dw3qGKZEpXwAALogCCNSjxz/Zoh9+mvLl2t5M+QIAcEkUQKCeLNt4WIvWnZry5YXEaAU1ZcoXAIBrogAC9eBg/klNfv/UlC93De2k2E7BJicCAOD0KIDAOapyGrpvYaYKSysVFR6kpD91NTsSAAC/iQIInKOZ/9mlNXuPqZmft14aFS0fL/5aAQBcG0cq4Bys23tML6bskCQ9kdBTHYL9TU4EAMDvowACZ6ngZIUmLcyU05Cu7ttOV/c9z+xIAACcEQogcBYMw9DDH27UwfyTat+yqR4f0dPsSAAAnDEKIHAWFqcd0NINh+Vtt+nFUdFq7vAxOxIAAGeMAgjU0Z4jJ/TYx5slSff9qav6tm9hciIAAOqGAgjUQXmlUxMXZqikvEqxHYN119BOZkcCAKDOKIBAHTz3xXZtOliooKY+eiExWl52HvUGAHA/blUAZ82apYiICDkcDsXExGjNmjW/OX7x4sWKjIyUw+FQ7969tWzZsurvVVRU6MEHH1Tv3r3l7++vtm3basyYMTp06FBDbwbc1H93HNGc/+6RJD1zbR+FBTpMTgQAwNlxmwK4aNEiJSUladq0aUpPT1dUVJTi4+OVm5tb6/jVq1dr9OjRGj9+vDIyMpSQkKCEhARt2rRJklRSUqL09HQ98sgjSk9P1wcffKDt27frqquuaszNgpvIO1GmpHfXS5JuGtxel/UMMzkRAABnz2YYhmF2iDMRExOjgQMHaubMmZIkp9Op8PBwTZgwQZMnT/7V+MTERBUXF2vp0qXVywYPHqzo6GjNnj271j9j7dq1GjRokPbt26f27dv/bqbCwkIFBgaqoKBAAQEBZ7llcHVOp6Fxc9fq6x1H1KV1M30y4QI5fLzMjgUAOEscv93kDGB5ebnS0tIUFxdXvcxutysuLk6pqam1rpOamlpjvCTFx8efdrwkFRQUyGazKSgoqF5ywzO8umqPvt5xRH7eds28oR/lDwDg9rzNDnAm8vLyVFVVpdDQ0BrLQ0NDtW3btlrXyc7OrnV8dnZ2reNLS0v14IMPavTo0af910BZWZnKysqqvy4sLKzLZsANZew/rmc/3y5JeuyqnuoW1tzkRAAAnDu3OAPY0CoqKjRy5EgZhqFXXnnltOOSk5MVGBhY/QoPD2/ElGhsBScrNGFBhiqdhob3aaNRA/nvDQDwDG5RAENCQuTl5aWcnJway3NychQWVvvF+GFhYWc0/qfyt2/fPq1YseI3rwWYMmWKCgoKql9ZWVlnuUVwdYZh6KEPNurA8ZMKb9lEydf0ls3GlC8AAM/gFgXQ19dX/fv3V0pKSvUyp9OplJQUxcbG1rpObGxsjfGStGLFihrjfyp/O3fu1Jdffqng4ODfzOHn56eAgIAaL3im+Wv269ONpx719vLofgrgUW8AAA/iFtcASlJSUpLGjh2rAQMGaNCgQZoxY4aKi4s1btw4SdKYMWPUrl07JScnS5ImTZqkoUOHavr06Ro+fLgWLlyodevWac6cOZJOlb/rrrtO6enpWrp0qaqqqqqvD2zZsqV8fX3N2VCYblt2oR7/ZIsk6e/Duik6PMjcQAAA1DO3KYCJiYk6cuSIHn30UWVnZys6OlrLly+vvtFj//79stt/PqE5ZMgQzZ8/X1OnTtVDDz2kLl26aMmSJerVq5ck6eDBg/r4448lSdHR0TX+rK+++koXX3xxo2wXXEtJeaXunZ+hskqnLu7WSrdd0NHsSAAA1Du3mQfQFTGPkOd58L0NWrQuS62b+2nZpAsV0szP7EgAgHrG8dtNrgEEGsNHmQe1aF2WbDZpRmI05Q8A4LEogICkvXnFevjDU48JnHBJZw3pHGJyIgAAGg4FEJZXXunUhAUZOlFWqUERLTXx0i5mRwIAoEFRAGF5yZ9t1caDBQpq6qMZo6Ll7cVfCwCAZ+NIB0tbtvGw3vh2ryTpueui1DaoibmBAABoBBRAWNYPecX6+3sbJEl3Du2ouB6hv7MGAACegQIISyqtqNLdb6dVX/f3wGXdzI4EAECjoQDCkqZ9tFnbsosU0sxXL9/Ql+v+AACWwlEPlvNe2oHq+f5eHNVXoQEOsyMBANCoKICwlG3ZhZq6ZKMk6b64rvoD8/0BACyIAgjLOFFWqb+8k67SCqcu6tpK917S2exIAACYggIISzAMQ5Pf36A9R4rVJtChGYnRstttZscCAMAUFEBYwlvf7dPSDYflbbdp5g391NLf1+xIAACYhgIIj7c+K19PLN0iSZp8eaT6d2hhciIAAMxFAYRHKyip0F/eSVdFlaFhPcM0/oLzzY4EAIDpKIDwWFVOQ39dlKGD+SfVIbipnrm+j2w2rvsDAIACCI81/Yvt+mr7Efl52zXrhn4KcPiYHQkAAJdAAYRH+mT9If1z5W5J0jPX9VGvdoEmJwIAwHVQAOFxNh8q0APvrZck3XlRR42IbmdyIgAAXAsFEB7l6Iky3fFmWvVkz38fFml2JAAAXA4FEB6josqpe+an62D+SUUEN9XLo/rKi8meAQD4FQqgCyqtqFLysq0qKKkwO4pb+cenW/XdnmPy9/XSnDEDFNiUmz4AAKgNBdAF3b94vf713z266+00lVc6zY7jFt5dl6W5q/dKkl5IjFbX0ObmBgIAwIVRAF3QPZd0VjM/b6XuOaqHP9wowzDMjuTS0vcf19QPN0mS/hrXRZf1DDM5EQAAro0C6IK6twnQyzf0ld0mLU47UD2dCX4tp7BUd72VpvIqpy7rEaqJf+xidiQAAFweBdBFXdKttf7nqp6SpGc/366lGw6ZnMj1lFVW6a6305RbVKauoc30fGK07Nz0AQDA76IAurCbYyN06x9OPbs26d31St9/3ORErsMwDD384SZl7M9XgMNbc24eoGZ+3mbHAgDALVAAXdzDw7srrntrlVc6dfu8dco6VmJ2JJfw/Iodei/tgOw26eUb+ikixN/sSAAAuA0KoIvzstv04qi+6tk2QEeLyzVu7loVnLT29DBvpe7Vy//ZJUn634TeGtq1lcmJAABwLxRAN+Dv563Xxg5UWIBDu3JP6C/vpKmiyprTwyzbeFiPfrxZ0qk7fm+IaW9yIgAA3A8F0E2EBTr02i0D1NTXS9/uOqpHlmyy3PQw3+05qr8uzJRhSDfEtNekS7njFwCAs0EBdCM92wbq5dGnpodZuDZL//rvHrMjNZqthwt1+7x11dO9PDGil2w27vgFAOBsUADdzKXdQzV1eA9J0lOfbdOnGw6bnKjhHTheolveWKOiskoNjGihl0bzjF8AAM4FBdANjftDhMbEdpAk/XVRhr7YnG1yooZzrLhcY15fo5zCU3P9/XvMQDl8vMyOBQCAW6MAuiGbzaZHr+ihK/q0UUWVoXvmp3tkCSwpr9Stc9dqz5FitQ10aN6tgxTY1MfsWAAAuD0KoJvy9rJrRmK0x5bAiiqn7p2focysfAU28dG8WwepTWATs2MBAOARKIBuzFNLYJXT0JQPNuo/23Ll523X67cMUJfQ5mbHAgDAY1AA3ZynlcCyyipNXJBR/ZSPmTf0U/8OLc2OBQCAR6EAeoCfSuCVUW3dugQWllboltfX6tONh+XjZdOMUX31px6hZscCAMDjUAA9hLeXXS+MjHLbEphbVKpR//pOqXuOyt/XS2/cMkhXRbU1OxYAAB6JAuhB3LUE/pBXrGtfWa0thwsV0sxXi+6M1QVdQsyOBQCAx6IAepjaSuDnLlwCNxzI13WvrFbWsZNq37Kp3r97iHq1CzQ7FgAAHs1tCuCsWbMUEREhh8OhmJgYrVmz5jfHL168WJGRkXI4HOrdu7eWLVtW4/sffPCBLrvsMgUHB8tmsykzM7MB0zeu/18C73o7Tc9+vk0VVU6zo9Xw3x1HNGrOdzpaXK5e7QL0/t1D1CHY3+xYAAB4PLcogIsWLVJSUpKmTZum9PR0RUVFKT4+Xrm5ubWOX716tUaPHq3x48crIyNDCQkJSkhI0KZNm6rHFBcX64ILLtDTTz/dWJvRqH4qgTfGtJdhSLO+2q3Ef6Uq61iJ2dEkSR9lHtStc9eqpLxKf+gcrIV3xKpVcz+zYwEAYAk2wzAMs0P8npiYGA0cOFAzZ86UJDmdToWHh2vChAmaPHnyr8YnJiaquLhYS5curV42ePBgRUdHa/bs2TXG7t27V+eff74yMjIUHR1dp1yFhYUKDAxUQUGBAgIC6r5hjeTTDYc1+YMNKiqtVHOHt566po+G92ljShbDMPTaNz/ofz/dKkm6ok8bTR8ZJT9vHu8GAGgc7nL8bkgufwawvLxcaWlpiouLq15mt9sVFxen1NTUWtdJTU2tMV6S4uPjTzv+TJWVlamwsLDGyx0M79NGn026UP07tFBRaaXumZ+uye9vUEl5ZaPm2JZdqBte/b66/I37Q4ReGtWX8gcAQCNz+QKYl5enqqoqhYbWnA8uNDRU2dm139yQnZ1dp/FnKjk5WYGBgdWv8PDwc/p5jem8Fk216I7BmvDHzrLZpIVrs3Tly99o6+GGL7HHi8v1yJJN+vOLq5S656j8vO2aOry7Hr2ih+x2W4P/+QAAoCaXL4CuZMqUKSooKKh+ZWVlmR2pTry97PrbZd30zm0xCg3w0+4jxRox61u9mbpXDXElQGWVU2+m7tUl01fqre/2yWlIf+4dpi+Thuq2CzvKZqP8AQBgBm+zA/yekJAQeXl5KScnp8bynJwchYWF1bpOWFhYncafKT8/P/n5uf+NCkM6heizSRfpgcXrlbItV49+tFlfbs3VTTHtdVHXVnL4nPuvZFfvztPjn2zRtuwiSVJkWHM9emUPDenE/H4AAJjN5c8A+vr6qn///kpJSale5nQ6lZKSotjY2FrXiY2NrTFeklasWHHa8VbU0t9X/x47QI9d2UO+Xnb9d8cR3fFWmgb875eatDBDn2/OVmlFVZ1/btaxEt39dppuePV7bcsuUlBTHz0xoqeWTriA8gcAgItw+TOAkpSUlKSxY8dqwIABGjRokGbMmKHi4mKNGzdOkjRmzBi1a9dOycnJkqRJkyZp6NChmj59uoYPH66FCxdq3bp1mjNnTvXPPHbsmPbv369Dhw5JkrZv3y7p1NnDcz1T6C5sNptu+cP5uqBLiBasydJnGw/rUEGpPso8pI8yD8nf10uXdg/Vn3u30cXdfj4zaBiGcovK9ENesfYdLdYPeSU//m+xdh85oYoqQ3abdNPgDrovrqta+PuavKUAAOCX3GIaGEmaOXOmnn32WWVnZys6OlovvfSSYmJiJEkXX3yxIiIiNHfu3Orxixcv1tSpU7V371516dJFzzzzjP785z9Xf3/u3LnVBfKXpk2bpscee+yMMnnabeROp6HMA/latuGwlv1YBn/i7+ulfh1a6EhRmfYdLdHJ3zg7OLhjS027sqe6t3H/fQIA8Dyedvw+G25TAF2RJ7+BDMNQZla+lm08rGUbs3Uw/2SN73vZbTqvRRNFBPsrIripIkL8FRHsr46t/NW+ZVNu8AAAuCxPPn6fKQrgObDKG8gwDK0/UKDNhwrUNuhU6TuvRRP5eLn8JaQAAPyKVY7fv8UtrgGEuWw2m6LDgxQdHmR2FAAAUA84hQMAAGAxFEAAAACLoQACAABYDAUQAADAYiiAAAAAFkMBBAAAsBgKIAAAgMVQAAEAACyGAggAAGAxFEAAAACLoQACAABYDAUQAADAYiiAAAAAFuNtdgB3ZhiGJKmwsNDkJAAA4Ez9dNz+6ThuRRTAc1BUVCRJCg8PNzkJAACoq6KiIgUGBpodwxQ2w8r19xw5nU4dOnRIzZs3l81mMztOoygsLFR4eLiysrIUEBBgdhyPxX5uPOzrxsF+bhzs5zNjGIaKiorUtm1b2e3WvBqOM4DnwG6367zzzjM7hikCAgL4cGkE7OfGw75uHOznxsF+/n1WPfP3E2vWXgAAAAujAAIAAFgMBRB14ufnp2nTpsnPz8/sKB6N/dx42NeNg/3cONjPOFPcBAIAAGAxnAEEAACwGAogAACAxVAAAQAALIYCCAAAYDEUQPzKrFmzFBERIYfDoZiYGK1Zs+Y3xy9evFiRkZFyOBzq3bu3li1b1khJ3Vtd9vPmzZt17bXXKiIiQjabTTNmzGi8oB6gLvv61Vdf1YUXXqgWLVqoRYsWiouL+92/AzilLvv5gw8+0IABAxQUFCR/f39FR0frrbfeasS07quun9E/WbhwoWw2mxISEho2INwCBRA1LFq0SElJSZo2bZrS09MVFRWl+Ph45ebm1jp+9erVGj16tMaPH6+MjAwlJCQoISFBmzZtauTk7qWu+7mkpEQdO3bUU089pbCwsEZO697quq9Xrlyp0aNH66uvvlJqaqrCw8N12WWX6eDBg42c3L3UdT+3bNlSDz/8sFJTU7VhwwaNGzdO48aN0+eff97Iyd1LXffzT/bu3av7779fF154YSMlhcszgF8YNGiQcc8991R/XVVVZbRt29ZITk6udfzIkSON4cOH11gWExNj3HnnnQ2a093VdT//UocOHYwXXnihAdN5lnPZ14ZhGJWVlUbz5s2NefPmNVREj3Cu+9kwDKNv377G1KlTGyKexzib/VxZWWkMGTLE+Pe//22MHTvWGDFiRCMkhavjDCCqlZeXKy0tTXFxcdXL7Ha74uLilJqaWus6qampNcZLUnx8/GnH4+z2M85OfezrkpISVVRUqGXLlg0V0+2d6342DEMpKSnavn27LrroooaM6tbOdj8//vjjat26tcaPH98YMeEmvM0OANeRl5enqqoqhYaG1lgeGhqqbdu21bpOdnZ2reOzs7MbLKe7O5v9jLNTH/v6wQcfVNu2bX/1Dx387Gz3c0FBgdq1a6eysjJ5eXnpn//8p/70pz81dFy3dTb7+ZtvvtFrr72mzMzMRkgId0IBBIDTeOqpp7Rw4UKtXLlSDofD7Dgep3nz5srMzNSJEyeUkpKipKQkdezYURdffLHZ0TxCUVGRbr75Zr366qsKCQkxOw5cDAUQ1UJCQuTl5aWcnJway3Nyck5740FYWFidxuPs9jPOzrns6+eee05PPfWUvvzyS/Xp06chY7q9s93PdrtdnTt3liRFR0dr69atSk5OpgCeRl338+7du7V3715deeWV1cucTqckydvbW9u3b1enTp0aNjRcFtcAopqvr6/69++vlJSU6mVOp1MpKSmKjY2tdZ3Y2Nga4yVpxYoVpx2Ps9vPODtnu6+feeYZPfHEE1q+fLkGDBjQGFHdWn29p51Op8rKyhoiokeo636OjIzUxo0blZmZWf266qqrdMkllygzM1Ph4eGNGR+uxuy7UOBaFi5caPj5+Rlz5841tmzZYtxxxx1GUFCQkZ2dbRiGYdx8883G5MmTq8d/++23hre3t/Hcc88ZW7duNaZNm2b4+PgYGzduNGsT3EJd93NZWZmRkZFhZGRkGG3atDHuv/9+IyMjw9i5c6dZm+A26rqvn3rqKcPX19d47733jMOHD1e/ioqKzNoEt1DX/fzkk08aX3zxhbF7925jy5YtxnPPPWd4e3sbr776qlmb4Bbqup//P+4Cxk8ogPiVl19+2Wjfvr3h6+trDBo0yPjuu++qvzd06FBj7NixNca/++67RteuXQ1fX1+jZ8+exqefftrIid1TXfbzDz/8YEj61Wvo0KGNH9wN1WVfd+jQodZ9PW3atMYP7mbqsp8ffvhho3PnzobD4TBatGhhxMbGGgsXLjQhtfup62f0L1EA8RObYRiGWWcfAQAA0Pi4BhAAAMBiKIAAAAAWQwEEAACwGAogAACAxVAAAQAALIYCCAAAYDEUQAAAAIuhAAIAAFgMBRAAAMBiKIAAAAAWQwEEAACwGAogAACAxVAAAQAALIYCCAAAYDEUQAAAAIuhAAIAAFgMBRAAAMBiKIAAAAAWQwEEAACwGAogAACAxVAAAQAALIYCCAAAYDEUQAAAAIuhAAIAAFgMBRAAAMBiKIAAAAAWQwEEAACwGAogAACAxVAAAQAALIYCCAAAYDEUQAAAAIv5P7ea+BNq7RDqAAAAAElFTkSuQmCC' width=640.0/>\n",
       "            </div>\n",
       "        "
      ],
      "text/plain": [
       "Canvas(toolbar=Toolbar(toolitems=[('Home', 'Reset original view', 'home', 'home'), ('Back', 'Back to previous …"
      ]
     },
     "metadata": {},
     "output_type": "display_data"
    }
   ],
   "source": [
    "import math\n",
    "import numpy as np\n",
    "\n",
    "\n",
    "def solve_ik_simple(px, py, L1, L2):\n",
    "    F = (px**2 + py**2 - L1**2 - L2**2)/(2* L1)\n",
    "    q2 = 2*atan( sqrt( L2**2 - F**2 )/(L2 + F) )\n",
    "    M = L1 + L2*cos( q2 )\n",
    "    n = L2*sin( q2 )\n",
    "    cosq1 = (px*M + py*n)/(M**2 + n**2)\n",
    "    sinq1 = (py - n*cosq1)/M\n",
    "    q1 = atan( sinq1/cosq1 )\n",
    "    return q1, q2\n",
    "\n",
    "dets = []\n",
    "ys = np.linspace((50*math.sqrt(2)-25)*.01, (50*math.sqrt(2)-75)*.01, 50)\n",
    "jac = jacobian([tf_1, tf_2], ['revolute', 'revolute'])[[0, 1], :]\n",
    "display(jac)\n",
    "for y in ys:\n",
    "    q1, q2 = solve_ik_simple(15*.01, y, a_1, a_2)\n",
    "    det = jac.evalf(subs={theta_1: q1, theta_2: q2}).det()\n",
    "    print(det)\n",
    "    dets.append(det)\n",
    "\n",
    "import matplotlib.pyplot as plt\n",
    "plt.plot(ys, dets)\n",
    "plt.show()\n"
   ]
  }
 ],
 "metadata": {
  "kernelspec": {
   "display_name": "ece4704",
   "language": "python",
   "name": "python3"
  },
  "language_info": {
   "codemirror_mode": {
    "name": "ipython",
    "version": 3
   },
   "file_extension": ".py",
   "mimetype": "text/x-python",
   "name": "python",
   "nbconvert_exporter": "python",
   "pygments_lexer": "ipython3",
   "version": "3.8.16"
  },
  "orig_nbformat": 4
 },
 "nbformat": 4,
 "nbformat_minor": 2
}
