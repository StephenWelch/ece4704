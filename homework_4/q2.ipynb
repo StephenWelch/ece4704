{
 "cells": [
  {
   "cell_type": "code",
   "execution_count": 19,
   "metadata": {},
   "outputs": [],
   "source": [
    "import sympy as sp\n",
    "from typing import List\n",
    "from sympy import sin, cos, pi, sqrt, acos, simplify, atan\n",
    "import math\n",
    "sp.init_printing()\n",
    "\n",
    "\n",
    "def homogeneous(rotation: sp.Matrix = sp.eye(3), translation: sp.Matrix = sp.zeros(3, 1)) -> sp.Matrix:\n",
    "    return rotation.row_join(translation).col_join(sp.Matrix([[0, 0, 0, 1]]))\n",
    "\n",
    "def dh(rotation, twist, displacement, offset):\n",
    "    rotation_mat = sp.Matrix([\n",
    "        [cos(rotation), -sin(rotation)*cos(twist),  sin(rotation)*sin(twist)],\n",
    "        [sin(rotation), cos(rotation)*cos(twist),   -cos(rotation)*sin(twist)],\n",
    "        [0,             sin(twist),                 cos(twist)],\n",
    "    ])\n",
    "    translation = sp.Matrix([\n",
    "        [offset*cos(rotation)],\n",
    "        [offset*sin(rotation)],\n",
    "        [displacement],\n",
    "    ])\n",
    "    return rotation_mat, translation\n",
    "\n",
    "def rotation(homogeneous: sp.Matrix):\n",
    "    return homogeneous[:3, :3]\n",
    "\n",
    "def translation(homogeneous: sp.Matrix):\n",
    "    return homogeneous[:3, 3:]\n",
    "\n",
    "def jacobian(transforms: List[sp.Matrix], joint_types: List[sp.Matrix], base_z: sp.Matrix = sp.Matrix([0, 0, 1])):\n",
    "    transforms_chained = [homogeneous()]\n",
    "    z_unit_vecs = []\n",
    "    # chain the transforms\n",
    "    for i, transform in enumerate(transforms):\n",
    "        transforms_chained.append(transforms_chained[-1] * transform)\n",
    "    # apply rotation of chained transforms to base z\n",
    "    for chained_transform in transforms_chained:\n",
    "        z_unit_vecs.append(rotation(chained_transform) * base_z)\n",
    "    \n",
    "    assert len(transforms_chained) == len(z_unit_vecs)\n",
    "\n",
    "    jacobian = sp.zeros(6, len(transforms))\n",
    "    for i, (transform, joint_type) in enumerate(zip(transforms, joint_types)):\n",
    "        if joint_type == 'revolute':\n",
    "            jacobian[:3, i] = z_unit_vecs[i].cross(translation(transforms_chained[-1]) - translation(transforms_chained[i]))\n",
    "            jacobian[3:, i] = z_unit_vecs[i]\n",
    "        elif joint_type == 'prismatic':\n",
    "            jacobian[:3, i] = z_unit_vecs[i]\n",
    "            jacobian[3:, i] = sp.Matrix([[0], [0], [0]])\n",
    "\n",
    "        # angular velocity\n",
    "\n",
    "    return jacobian\n",
    "\n",
    "def skew(v: sp.Matrix):\n",
    "    return sp.Matrix([\n",
    "        [0, -v[2], v[1]],\n",
    "        [v[2], 0, -v[0]],\n",
    "        [-v[1], v[0], 0],\n",
    "    ])"
   ]
  },
  {
   "cell_type": "code",
   "execution_count": 20,
   "metadata": {},
   "outputs": [
    {
     "data": {
      "text/latex": [
       "$\\displaystyle \\left[\\begin{matrix}- \\sin{\\left(q_{1} \\right)} + 2.5 \\cos{\\left(q_{1} \\right)} & 0 & 0\\\\2.5 \\sin{\\left(q_{1} \\right)} + \\cos{\\left(q_{1} \\right)} & 0 & 0\\\\0 & 0 & 0\\\\0 & \\sin{\\left(q_{1} \\right)} & \\sin{\\left(q_{1} \\right)}\\\\0 & - \\cos{\\left(q_{1} \\right)} & - \\cos{\\left(q_{1} \\right)}\\\\1 & 0 & 0\\end{matrix}\\right]$"
      ],
      "text/plain": [
       "⎡-sin(q₁) + 2.5⋅cos(q₁)     0         0    ⎤\n",
       "⎢                                          ⎥\n",
       "⎢2.5⋅sin(q₁) + cos(q₁)      0         0    ⎥\n",
       "⎢                                          ⎥\n",
       "⎢          0                0         0    ⎥\n",
       "⎢                                          ⎥\n",
       "⎢          0             sin(q₁)   sin(q₁) ⎥\n",
       "⎢                                          ⎥\n",
       "⎢          0             -cos(q₁)  -cos(q₁)⎥\n",
       "⎢                                          ⎥\n",
       "⎣          1                0         0    ⎦"
      ]
     },
     "metadata": {},
     "output_type": "display_data"
    },
    {
     "data": {
      "text/latex": [
       "$\\displaystyle \\left[\\begin{matrix}1.5625 \\cdot 10^{-5} \\left(- 0.4 \\sin{\\left(q_{1} \\right)} + 1.0 \\cos{\\left(q_{1} \\right)}\\right)^{2} & 6.5625 \\cdot 10^{-6} \\sin{\\left(2 q_{1} \\right)} + 6.25 \\cdot 10^{-6} \\cos{\\left(2 q_{1} \\right)} & 0 & 0 & 0 & - 2.5 \\cdot 10^{-6} \\sin{\\left(q_{1} \\right)} + 6.25 \\cdot 10^{-6} \\cos{\\left(q_{1} \\right)}\\\\6.5625 \\cdot 10^{-6} \\sin{\\left(2 q_{1} \\right)} + 6.25 \\cdot 10^{-6} \\cos{\\left(2 q_{1} \\right)} & 1.5625 \\cdot 10^{-5} \\left(1.0 \\sin{\\left(q_{1} \\right)} + 0.4 \\cos{\\left(q_{1} \\right)}\\right)^{2} & 0 & 0 & 0 & 6.25 \\cdot 10^{-6} \\sin{\\left(q_{1} \\right)} + 2.5 \\cdot 10^{-6} \\cos{\\left(q_{1} \\right)}\\\\0 & 0 & 0 & 0 & 0 & 0\\\\0 & 0 & 0 & 1.5 \\cdot 10^{-5} \\sin^{2}{\\left(q_{1} \\right)} & - 7.5 \\cdot 10^{-6} \\sin{\\left(2 q_{1} \\right)} & 0\\\\0 & 0 & 0 & - 7.5 \\cdot 10^{-6} \\sin{\\left(2 q_{1} \\right)} & 1.5 \\cdot 10^{-5} \\cos^{2}{\\left(q_{1} \\right)} & 0\\\\- 2.5 \\cdot 10^{-6} \\sin{\\left(q_{1} \\right)} + 6.25 \\cdot 10^{-6} \\cos{\\left(q_{1} \\right)} & 6.25 \\cdot 10^{-6} \\sin{\\left(q_{1} \\right)} + 2.5 \\cdot 10^{-6} \\cos{\\left(q_{1} \\right)} & 0 & 0 & 0 & 2.5 \\cdot 10^{-6}\\end{matrix}\\right]$"
      ],
      "text/plain": [
       "⎡                                      2                                      \n",
       "⎢1.5625e-5⋅(-0.4⋅sin(q₁) + 1.0⋅cos(q₁))   6.5625e-6⋅sin(2⋅q₁) + 6.25e-6⋅cos(2⋅\n",
       "⎢                                                                             \n",
       "⎢                                                                             \n",
       "⎢6.5625e-6⋅sin(2⋅q₁) + 6.25e-6⋅cos(2⋅q₁)  1.5625e-5⋅(1.0⋅sin(q₁) + 0.4⋅cos(q₁)\n",
       "⎢                                                                             \n",
       "⎢                   0                                        0                \n",
       "⎢                                                                             \n",
       "⎢                                                                             \n",
       "⎢                   0                                        0                \n",
       "⎢                                                                             \n",
       "⎢                                                                             \n",
       "⎢                   0                                        0                \n",
       "⎢                                                                             \n",
       "⎣   -2.5e-6⋅sin(q₁) + 6.25e-6⋅cos(q₁)        6.25e-6⋅sin(q₁) + 2.5e-6⋅cos(q₁) \n",
       "\n",
       "                                                                              \n",
       "q₁)  0          0                  0          -2.5e-6⋅sin(q₁) + 6.25e-6⋅cos(q₁\n",
       "                                                                              \n",
       " 2                                                                            \n",
       ")    0          0                  0          6.25e-6⋅sin(q₁) + 2.5e-6⋅cos(q₁)\n",
       "                                                                              \n",
       "     0          0                  0                          0               \n",
       "                                                                              \n",
       "                   2                                                          \n",
       "     0   1.5e-5⋅sin (q₁)   -7.5e-6⋅sin(2⋅q₁)                  0               \n",
       "                                                                              \n",
       "                                      2                                       \n",
       "     0  -7.5e-6⋅sin(2⋅q₁)   1.5e-5⋅cos (q₁)                   0               \n",
       "                                                                              \n",
       "     0          0                  0                       2.5e-6             \n",
       "\n",
       " ⎤\n",
       ")⎥\n",
       " ⎥\n",
       " ⎥\n",
       " ⎥\n",
       " ⎥\n",
       " ⎥\n",
       " ⎥\n",
       " ⎥\n",
       " ⎥\n",
       " ⎥\n",
       " ⎥\n",
       " ⎥\n",
       " ⎥\n",
       " ⎦"
      ]
     },
     "metadata": {},
     "output_type": "display_data"
    },
    {
     "data": {
      "text/latex": [
       "$\\displaystyle \\left[\\begin{matrix}2.5 \\cdot 10^{-6} & -6.25 \\cdot 10^{-6} & 0 & 0 & 0 & -2.5 \\cdot 10^{-6}\\\\-6.25 \\cdot 10^{-6} & 1.5625 \\cdot 10^{-5} & 0 & 0 & 0 & 6.25 \\cdot 10^{-6}\\\\0 & 0 & 0 & 0 & 0 & 0\\\\0 & 0 & 0 & 1.5 \\cdot 10^{-5} & -9.18485099360515 \\cdot 10^{-22} & 0\\\\0 & 0 & 0 & -9.18485099360515 \\cdot 10^{-22} & 5.62409918498197 \\cdot 10^{-38} & 0\\\\-2.5 \\cdot 10^{-6} & 6.25 \\cdot 10^{-6} & 0 & 0 & 0 & 2.5 \\cdot 10^{-6}\\end{matrix}\\right]$"
      ],
      "text/plain": [
       "⎡ 2.5e-6   -6.25e-6   0            0                      0            -2.5e-6\n",
       "⎢                                                                             \n",
       "⎢-6.25e-6  1.5625e-5  0            0                      0            6.25e-6\n",
       "⎢                                                                             \n",
       "⎢   0          0      0            0                      0               0   \n",
       "⎢                                                                             \n",
       "⎢   0          0      0         1.5e-5          -9.18485099360515e-22     0   \n",
       "⎢                                                                             \n",
       "⎢   0          0      0  -9.18485099360515e-22  5.62409918498197e-38      0   \n",
       "⎢                                                                             \n",
       "⎣-2.5e-6    6.25e-6   0            0                      0            2.5e-6 \n",
       "\n",
       "⎤\n",
       "⎥\n",
       "⎥\n",
       "⎥\n",
       "⎥\n",
       "⎥\n",
       "⎥\n",
       "⎥\n",
       "⎥\n",
       "⎥\n",
       "⎦"
      ]
     },
     "metadata": {},
     "output_type": "display_data"
    },
    {
     "data": {
      "text/latex": [
       "$\\displaystyle \\left[\\begin{matrix}0.000388908729652601\\\\-0.000972271824131503\\\\0\\\\0\\\\0\\\\-0.000388908729652601\\end{matrix}\\right]$"
      ],
      "text/plain": [
       "⎡0.000388908729652601 ⎤\n",
       "⎢                     ⎥\n",
       "⎢-0.000972271824131503⎥\n",
       "⎢                     ⎥\n",
       "⎢          0          ⎥\n",
       "⎢                     ⎥\n",
       "⎢          0          ⎥\n",
       "⎢                     ⎥\n",
       "⎢          0          ⎥\n",
       "⎢                     ⎥\n",
       "⎣-0.000388908729652601⎦"
      ]
     },
     "execution_count": 20,
     "metadata": {},
     "output_type": "execute_result"
    }
   ],
   "source": [
    "q1, q2, q3 = sp.symbols('q_1 q_2 q_3')\n",
    "l0, l1, l2 = 1, 1, 1.5\n",
    "k1, k2, k3 = 4e5, 2e5, 1e5\n",
    "K = sp.diag(k1, k2, k3)\n",
    "joint1 = homogeneous(*dh(q1, pi/2, 0, l0))\n",
    "joint2 = homogeneous(*dh(q2, 0, l1, 0))\n",
    "joint3 = homogeneous(*dh(q3, 0, l2, 0))\n",
    "\n",
    "J = jacobian([joint1, joint2, joint3], ['revolute', 'revolute', 'revolute'])\n",
    "C = J*K.inv()*J.T\n",
    "\n",
    "display(simplify(J))\n",
    "display(simplify(C))\n",
    "display(simplify(C.evalf(subs={q1: math.radians(90), q2: math.radians(135), q3: math.radians(-90)})))\n",
    "\n",
    "F = sp.Matrix([100, 50, -30, 0, 0, 0])\n",
    "\n",
    "R = rotation(joint1 * joint2 * joint3)\n",
    "p = -(joint1*joint2*joint3*sp.Matrix([0, 0, 0, 1]))\n",
    "S = sp.zeros(6, 6)\n",
    "S[:3, :3] = R.T\n",
    "S[:3, 3:] = skew(p)*R.T\n",
    "S[3:, 3:] = R.T\n",
    "F = S*F\n",
    "(C*F).evalf(subs={q1: math.radians(90), q2: math.radians(135), q3: math.radians(-90)})"
   ]
  }
 ],
 "metadata": {
  "kernelspec": {
   "display_name": "ece4704",
   "language": "python",
   "name": "python3"
  },
  "language_info": {
   "codemirror_mode": {
    "name": "ipython",
    "version": 3
   },
   "file_extension": ".py",
   "mimetype": "text/x-python",
   "name": "python",
   "nbconvert_exporter": "python",
   "pygments_lexer": "ipython3",
   "version": "3.8.16"
  },
  "orig_nbformat": 4
 },
 "nbformat": 4,
 "nbformat_minor": 2
}
