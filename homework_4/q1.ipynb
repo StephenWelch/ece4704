{
 "cells": [
  {
   "cell_type": "code",
   "execution_count": 52,
   "metadata": {},
   "outputs": [],
   "source": [
    "import sympy as sp\n",
    "from typing import List\n",
    "from sympy import sin, cos, pi, sqrt, acos, simplify, atan\n",
    "import math\n",
    "sp.init_printing()\n",
    "\n",
    "\n",
    "def homogeneous(rotation: sp.Matrix = sp.eye(3), translation: sp.Matrix = sp.zeros(3, 1)) -> sp.Matrix:\n",
    "    return rotation.row_join(translation).col_join(sp.Matrix([[0, 0, 0, 1]]))\n",
    "\n",
    "def dh(rotation, twist, displacement, offset):\n",
    "    rotation_mat = sp.Matrix([\n",
    "        [cos(rotation), -sin(rotation)*cos(twist),  sin(rotation)*sin(twist)],\n",
    "        [sin(rotation), cos(rotation)*cos(twist),   -cos(rotation)*sin(twist)],\n",
    "        [0,             sin(twist),                 cos(twist)],\n",
    "    ])\n",
    "    translation = sp.Matrix([\n",
    "        [offset*cos(rotation)],\n",
    "        [offset*sin(rotation)],\n",
    "        [displacement],\n",
    "    ])\n",
    "    return rotation_mat, translation\n",
    "\n",
    "def rotation(homogeneous: sp.Matrix):\n",
    "    return homogeneous[:3, :3]\n",
    "\n",
    "def translation(homogeneous: sp.Matrix):\n",
    "    return homogeneous[:3, 3:]\n",
    "\n",
    "def jacobian(transforms: List[sp.Matrix], joint_types: List[sp.Matrix], base_z: sp.Matrix = sp.Matrix([0, 0, 1])):\n",
    "    transforms_chained = [homogeneous()]\n",
    "    z_unit_vecs = []\n",
    "    # chain the transforms\n",
    "    for i, transform in enumerate(transforms):\n",
    "        transforms_chained.append(transforms_chained[-1] * transform)\n",
    "    # apply rotation of chained transforms to base z\n",
    "    for chained_transform in transforms_chained:\n",
    "        z_unit_vecs.append(rotation(chained_transform) * base_z)\n",
    "    \n",
    "    assert len(transforms_chained) == len(z_unit_vecs)\n",
    "\n",
    "    jacobian = sp.zeros(6, len(transforms))\n",
    "    for i, (transform, joint_type) in enumerate(zip(transforms, joint_types)):\n",
    "        if joint_type == 'revolute':\n",
    "            jacobian[:3, i] = z_unit_vecs[i].cross(translation(transforms_chained[-1]) - translation(transforms_chained[i]))\n",
    "            jacobian[3:, i] = z_unit_vecs[i]\n",
    "        elif joint_type == 'prismatic':\n",
    "            jacobian[:3, i] = z_unit_vecs[i]\n",
    "            jacobian[3:, i] = sp.Matrix([[0], [0], [0]])\n",
    "\n",
    "        # angular velocity\n",
    "\n",
    "    return jacobian"
   ]
  },
  {
   "cell_type": "code",
   "execution_count": 53,
   "metadata": {},
   "outputs": [],
   "source": [
    "q_1, q_2, q_3 = sp.symbols('q_1 q_2 q_3')\n",
    "\n",
    "joint_1 = homogeneous(*dh(q_1, -pi/2, .4, 0))\n",
    "joint_2 = homogeneous(*dh(q_2, pi/2, 0, 0))\n",
    "joint_3 = homogeneous(*dh(q_3, 0, .15, .1))"
   ]
  },
  {
   "cell_type": "code",
   "execution_count": 54,
   "metadata": {},
   "outputs": [
    {
     "data": {
      "text/latex": [
       "$\\displaystyle \\left[\\begin{matrix}- \\sin{\\left(q_{1} \\right)}\\\\\\cos{\\left(q_{1} \\right)}\\\\0\\end{matrix}\\right]$"
      ],
      "text/plain": [
       "⎡-sin(q₁)⎤\n",
       "⎢        ⎥\n",
       "⎢cos(q₁) ⎥\n",
       "⎢        ⎥\n",
       "⎣   0    ⎦"
      ]
     },
     "metadata": {},
     "output_type": "display_data"
    },
    {
     "data": {
      "text/latex": [
       "$\\displaystyle \\left[\\begin{matrix}\\sin{\\left(q_{2} \\right)} \\cos{\\left(q_{1} \\right)}\\\\\\sin{\\left(q_{1} \\right)} \\sin{\\left(q_{2} \\right)}\\\\\\cos{\\left(q_{2} \\right)}\\end{matrix}\\right]$"
      ],
      "text/plain": [
       "⎡sin(q₂)⋅cos(q₁)⎤\n",
       "⎢               ⎥\n",
       "⎢sin(q₁)⋅sin(q₂)⎥\n",
       "⎢               ⎥\n",
       "⎣    cos(q₂)    ⎦"
      ]
     },
     "metadata": {},
     "output_type": "display_data"
    },
    {
     "data": {
      "text/latex": [
       "$\\displaystyle \\left[\\begin{matrix}- 0.15 \\sin{\\left(q_{1} \\right)} \\sin{\\left(q_{2} \\right)} - 0.1 \\sin{\\left(q_{1} \\right)} \\cos{\\left(q_{2} \\right)} \\cos{\\left(q_{3} \\right)} - 0.1 \\sin{\\left(q_{3} \\right)} \\cos{\\left(q_{1} \\right)} & \\left(- 0.1 \\sin{\\left(q_{2} \\right)} \\cos{\\left(q_{3} \\right)} + 0.15 \\cos{\\left(q_{2} \\right)}\\right) \\cos{\\left(q_{1} \\right)} & - 0.1 \\sin{\\left(q_{1} \\right)} \\cos{\\left(q_{3} \\right)} - 0.1 \\sin{\\left(q_{3} \\right)} \\cos{\\left(q_{1} \\right)} \\cos{\\left(q_{2} \\right)}\\\\- 0.1 \\sin{\\left(q_{1} \\right)} \\sin{\\left(q_{3} \\right)} + 0.15 \\sin{\\left(q_{2} \\right)} \\cos{\\left(q_{1} \\right)} + 0.1 \\cos{\\left(q_{1} \\right)} \\cos{\\left(q_{2} \\right)} \\cos{\\left(q_{3} \\right)} & \\left(- 0.1 \\sin{\\left(q_{2} \\right)} \\cos{\\left(q_{3} \\right)} + 0.15 \\cos{\\left(q_{2} \\right)}\\right) \\sin{\\left(q_{1} \\right)} & - 0.1 \\sin{\\left(q_{1} \\right)} \\sin{\\left(q_{3} \\right)} \\cos{\\left(q_{2} \\right)} + 0.1 \\cos{\\left(q_{1} \\right)} \\cos{\\left(q_{3} \\right)}\\\\0 & - 0.15 \\sin{\\left(q_{2} \\right)} - 0.1 \\cos{\\left(q_{2} \\right)} \\cos{\\left(q_{3} \\right)} & 0.1 \\sin{\\left(q_{2} \\right)} \\sin{\\left(q_{3} \\right)}\\\\0 & - \\sin{\\left(q_{1} \\right)} & \\sin{\\left(q_{2} \\right)} \\cos{\\left(q_{1} \\right)}\\\\0 & \\cos{\\left(q_{1} \\right)} & \\sin{\\left(q_{1} \\right)} \\sin{\\left(q_{2} \\right)}\\\\1 & 0 & \\cos{\\left(q_{2} \\right)}\\end{matrix}\\right]$"
      ],
      "text/plain": [
       "⎡-0.15⋅sin(q₁)⋅sin(q₂) - 0.1⋅sin(q₁)⋅cos(q₂)⋅cos(q₃) - 0.1⋅sin(q₃)⋅cos(q₁)  (-\n",
       "⎢                                                                             \n",
       "⎢-0.1⋅sin(q₁)⋅sin(q₃) + 0.15⋅sin(q₂)⋅cos(q₁) + 0.1⋅cos(q₁)⋅cos(q₂)⋅cos(q₃)  (-\n",
       "⎢                                                                             \n",
       "⎢                                    0                                        \n",
       "⎢                                                                             \n",
       "⎢                                    0                                        \n",
       "⎢                                                                             \n",
       "⎢                                    0                                        \n",
       "⎢                                                                             \n",
       "⎣                                    1                                        \n",
       "\n",
       "0.1⋅sin(q₂)⋅cos(q₃) + 0.15⋅cos(q₂))⋅cos(q₁)  -0.1⋅sin(q₁)⋅cos(q₃) - 0.1⋅sin(q₃\n",
       "                                                                              \n",
       "0.1⋅sin(q₂)⋅cos(q₃) + 0.15⋅cos(q₂))⋅sin(q₁)  -0.1⋅sin(q₁)⋅sin(q₃)⋅cos(q₂) + 0.\n",
       "                                                                              \n",
       "   -0.15⋅sin(q₂) - 0.1⋅cos(q₂)⋅cos(q₃)                      0.1⋅sin(q₂)⋅sin(q₃\n",
       "                                                                              \n",
       "                -sin(q₁)                                      sin(q₂)⋅cos(q₁) \n",
       "                                                                              \n",
       "                 cos(q₁)                                      sin(q₁)⋅sin(q₂) \n",
       "                                                                              \n",
       "                    0                                             cos(q₂)     \n",
       "\n",
       ")⋅cos(q₁)⋅cos(q₂)⎤\n",
       "                 ⎥\n",
       "1⋅cos(q₁)⋅cos(q₃)⎥\n",
       "                 ⎥\n",
       ")                ⎥\n",
       "                 ⎥\n",
       "                 ⎥\n",
       "                 ⎥\n",
       "                 ⎥\n",
       "                 ⎥\n",
       "                 ⎦"
      ]
     },
     "execution_count": 54,
     "metadata": {},
     "output_type": "execute_result"
    }
   ],
   "source": [
    "# Question 1a\n",
    "z_0_0 = sp.Matrix([0, 0, 1])\n",
    "display(rotation(joint_1)*z_0_0)\n",
    "display(rotation(joint_1)*rotation(joint_2)*z_0_0)\n",
    "J = simplify(jacobian([joint_1, joint_2, joint_3], ['revolute', 'revolute', 'revolute']))\n",
    "J"
   ]
  },
  {
   "cell_type": "code",
   "execution_count": 55,
   "metadata": {},
   "outputs": [
    {
     "data": {
      "text/latex": [
       "$\\displaystyle \\left[\\begin{matrix}- f_{x} \\left(0.15 \\sin{\\left(q_{1} \\right)} \\sin{\\left(q_{2} \\right)} + 0.1 \\sin{\\left(q_{1} \\right)} \\cos{\\left(q_{2} \\right)} \\cos{\\left(q_{3} \\right)} + 0.1 \\sin{\\left(q_{3} \\right)} \\cos{\\left(q_{1} \\right)}\\right) + f_{y} \\left(- 0.1 \\sin{\\left(q_{1} \\right)} \\sin{\\left(q_{3} \\right)} + 0.15 \\sin{\\left(q_{2} \\right)} \\cos{\\left(q_{1} \\right)} + 0.1 \\cos{\\left(q_{1} \\right)} \\cos{\\left(q_{2} \\right)} \\cos{\\left(q_{3} \\right)}\\right) + g_{z}\\\\- f_{x} \\left(0.1 \\sin{\\left(q_{2} \\right)} \\cos{\\left(q_{3} \\right)} - 0.15 \\cos{\\left(q_{2} \\right)}\\right) \\cos{\\left(q_{1} \\right)} - f_{y} \\left(0.1 \\sin{\\left(q_{2} \\right)} \\cos{\\left(q_{3} \\right)} - 0.15 \\cos{\\left(q_{2} \\right)}\\right) \\sin{\\left(q_{1} \\right)} - f_{z} \\left(0.15 \\sin{\\left(q_{2} \\right)} + 0.1 \\cos{\\left(q_{2} \\right)} \\cos{\\left(q_{3} \\right)}\\right) - g_{x} \\sin{\\left(q_{1} \\right)} + g_{y} \\cos{\\left(q_{1} \\right)}\\\\- 0.1 f_{x} \\left(\\sin{\\left(q_{1} \\right)} \\cos{\\left(q_{3} \\right)} + \\sin{\\left(q_{3} \\right)} \\cos{\\left(q_{1} \\right)} \\cos{\\left(q_{2} \\right)}\\right) - 0.1 f_{y} \\left(\\sin{\\left(q_{1} \\right)} \\sin{\\left(q_{3} \\right)} \\cos{\\left(q_{2} \\right)} - \\cos{\\left(q_{1} \\right)} \\cos{\\left(q_{3} \\right)}\\right) + 0.1 f_{z} \\sin{\\left(q_{2} \\right)} \\sin{\\left(q_{3} \\right)} + g_{x} \\sin{\\left(q_{2} \\right)} \\cos{\\left(q_{1} \\right)} + g_{y} \\sin{\\left(q_{1} \\right)} \\sin{\\left(q_{2} \\right)} + g_{z} \\cos{\\left(q_{2} \\right)}\\end{matrix}\\right]$"
      ],
      "text/plain": [
       "⎡           -fₓ⋅(0.15⋅sin(q₁)⋅sin(q₂) + 0.1⋅sin(q₁)⋅cos(q₂)⋅cos(q₃) + 0.1⋅sin(\n",
       "⎢                                                                             \n",
       "⎢         -fₓ⋅(0.1⋅sin(q₂)⋅cos(q₃) - 0.15⋅cos(q₂))⋅cos(q₁) - f_y⋅(0.1⋅sin(q₂)⋅\n",
       "⎢                                                                             \n",
       "⎣-0.1⋅fₓ⋅(sin(q₁)⋅cos(q₃) + sin(q₃)⋅cos(q₁)⋅cos(q₂)) - 0.1⋅f_y⋅(sin(q₁)⋅sin(q₃\n",
       "\n",
       "q₃)⋅cos(q₁)) + f_y⋅(-0.1⋅sin(q₁)⋅sin(q₃) + 0.15⋅sin(q₂)⋅cos(q₁) + 0.1⋅cos(q₁)⋅\n",
       "                                                                              \n",
       "cos(q₃) - 0.15⋅cos(q₂))⋅sin(q₁) - f_z⋅(0.15⋅sin(q₂) + 0.1⋅cos(q₂)⋅cos(q₃)) - g\n",
       "                                                                              \n",
       ")⋅cos(q₂) - cos(q₁)⋅cos(q₃)) + 0.1⋅f_z⋅sin(q₂)⋅sin(q₃) + gₓ⋅sin(q₂)⋅cos(q₁) + \n",
       "\n",
       "cos(q₂)⋅cos(q₃)) + g_z           ⎤\n",
       "                                 ⎥\n",
       "ₓ⋅sin(q₁) + g_y⋅cos(q₁)          ⎥\n",
       "                                 ⎥\n",
       "g_y⋅sin(q₁)⋅sin(q₂) + g_z⋅cos(q₂)⎦"
      ]
     },
     "metadata": {},
     "output_type": "display_data"
    },
    {
     "data": {
      "text/latex": [
       "$\\displaystyle \\left[\\begin{matrix}1.77084538009111\\\\1.41421356237309\\\\0.973457150108775\\end{matrix}\\right]$"
      ],
      "text/plain": [
       "⎡1.77084538009111 ⎤\n",
       "⎢                 ⎥\n",
       "⎢1.41421356237309 ⎥\n",
       "⎢                 ⎥\n",
       "⎣0.973457150108775⎦"
      ]
     },
     "execution_count": 55,
     "metadata": {},
     "output_type": "execute_result"
    }
   ],
   "source": [
    "# Question 1b\n",
    "f_x, f_y, f_z, g_x, g_y, g_z = sp.symbols('f_x f_y f_z g_x g_y g_z')\n",
    "F = sp.Matrix([f_x, f_y, f_z, g_x, g_y, g_z])\n",
    "t = simplify(J.T*F)\n",
    "display(t)\n",
    "o = sp.Matrix([0, 0, 0, 1])\n",
    "p = -(joint_1*joint_2*joint_3*o)\n",
    "R_0_e = rotation(joint_1)*rotation(joint_2)*rotation(joint_3)\n",
    "def skew(v: sp.Matrix):\n",
    "    return sp.Matrix([\n",
    "        [0, -v[2], v[1]],\n",
    "        [v[2], 0, -v[0]],\n",
    "        [-v[1], v[0], 0],\n",
    "    ])\n",
    "S_0_e0 = sp.zeros(6, 6)\n",
    "S_0_e0[:3, :3] = R_0_e.T\n",
    "S_0_e0[:3, 3:] = skew(p)*R_0_e.T\n",
    "S_0_e0[3:, 3:] = R_0_e.T\n",
    "G = sp.Matrix([0, 0, 0, .04, 0, 0])\n",
    "f = F.evalf(subs={f_x: -10, f_y: 0, f_z: -8, g_x: 0, g_y: 0, g_z: 0})+(S_0_e0*G).evalf(subs={q_1: math.radians(90), q_2: math.radians(45), q_3: 0})\n",
    "\n",
    "(J.T*(F+(S_0_e0*G))).evalf(subs={f_x: -10, f_y: 0, f_z: -8, g_x: 0, g_y: 0, g_z: 0,q_1: math.radians(90), q_2: math.radians(45), q_3: 0})"
   ]
  }
 ],
 "metadata": {
  "kernelspec": {
   "display_name": "ece4704",
   "language": "python",
   "name": "python3"
  },
  "language_info": {
   "codemirror_mode": {
    "name": "ipython",
    "version": 3
   },
   "file_extension": ".py",
   "mimetype": "text/x-python",
   "name": "python",
   "nbconvert_exporter": "python",
   "pygments_lexer": "ipython3",
   "version": "3.8.16"
  },
  "orig_nbformat": 4
 },
 "nbformat": 4,
 "nbformat_minor": 2
}
