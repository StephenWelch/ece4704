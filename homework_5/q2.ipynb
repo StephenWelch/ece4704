{
 "cells": [
  {
   "cell_type": "code",
   "execution_count": 14,
   "metadata": {},
   "outputs": [],
   "source": [
    "%matplotlib widget\n",
    "\n",
    "import sympy as sp\n",
    "import sympy.physics.mechanics as me\n",
    "import sympy.plotting as splt\n",
    "from typing import List\n",
    "from sympy import sin, cos, pi, sqrt, acos, simplify, atan\n",
    "import math\n",
    "me.init_vprinting()\n",
    "\n",
    "g, t = sp.symbols('g, t')\n",
    "\n",
    "def homogeneous(rotation: sp.Matrix = sp.eye(3), translation: sp.Matrix = sp.zeros(3, 1)) -> sp.Matrix:\n",
    "    return rotation.row_join(translation).col_join(sp.Matrix([[0, 0, 0, 1]]))\n",
    "\n",
    "def dh(rotation, twist, displacement, offset):\n",
    "    rotation_mat = sp.Matrix([\n",
    "        [cos(rotation), -sin(rotation)*cos(twist),  sin(rotation)*sin(twist)],\n",
    "        [sin(rotation), cos(rotation)*cos(twist),   -cos(rotation)*sin(twist)],\n",
    "        [0,             sin(twist),                 cos(twist)],\n",
    "    ])\n",
    "    translation = sp.Matrix([\n",
    "        [offset*cos(rotation)],\n",
    "        [offset*sin(rotation)],\n",
    "        [displacement],\n",
    "    ])\n",
    "    return rotation_mat, translation\n",
    "\n",
    "def rotation(homogeneous: sp.Matrix):\n",
    "    return homogeneous[:3, :3]\n",
    "\n",
    "def translation(homogeneous: sp.Matrix):\n",
    "    return homogeneous[:3, 3:]\n",
    "\n",
    "def chained_transform(transforms: List[sp.Matrix]):\n",
    "    transforms_chained = [homogeneous()]\n",
    "    for transform in transforms:\n",
    "        transforms_chained.append(transforms_chained[-1] * transform)\n",
    "    return transforms_chained\n",
    "\n",
    "def z_vecs(transforms: List[sp.Matrix]):\n",
    "    transforms_chained = chained_transform(transforms)\n",
    "    z_unit_vecs = []\n",
    "    for transform in transforms_chained:\n",
    "        z_unit_vecs.append(rotation(transform) * sp.Matrix([0, 0, 1]))\n",
    "    return z_unit_vecs\n",
    "\n",
    "def jacobian(transforms: List[sp.Matrix], joint_types: List[sp.Matrix], base_z: sp.Matrix = sp.Matrix([0, 0, 1])):\n",
    "    transforms_chained = chained_transform(transforms)\n",
    "    z_unit_vecs = z_vecs(transforms)\n",
    "    \n",
    "    assert len(transforms_chained) == len(z_unit_vecs)\n",
    "\n",
    "    jacobian = sp.zeros(6, len(transforms))\n",
    "    for i, (transform, joint_type) in enumerate(zip(transforms, joint_types)):\n",
    "        if joint_type == 'revolute':\n",
    "            jacobian[:3, i] = z_unit_vecs[i].cross(translation(transforms_chained[-1]) - translation(transforms_chained[i]))\n",
    "            jacobian[3:, i] = z_unit_vecs[i]\n",
    "        elif joint_type == 'prismatic':\n",
    "            jacobian[:3, i] = z_unit_vecs[i]\n",
    "            jacobian[3:, i] = sp.Matrix([[0], [0], [0]])\n",
    "\n",
    "        # angular velocity\n",
    "\n",
    "    return jacobian\n",
    "\n",
    "def skew(v: sp.Matrix):\n",
    "    return sp.Matrix([\n",
    "        [0, -v[2], v[1]],\n",
    "        [v[2], 0, -v[0]],\n",
    "        [-v[1], v[0], 0],\n",
    "    ])\n",
    "\n",
    "def compute_dynamics(all_joints: List[sp.Matrix], joint_types: List[str], q_dot: List[sp.Matrix], m: List[float], I: List[float], r_c: List[sp.Matrix]):\n",
    "    J = jacobian(all_joints, joint_types)\n",
    "\n",
    "    w = [sp.Matrix([0, 0, 0])]*(len(all_joints)+1) # joint linear velocities\n",
    "    v = [sp.Matrix([0, 0, 0])]*(len(all_joints)+1) # joint angular velocities\n",
    "    v_c = [sp.Matrix([0, 0, 0])]*(len(all_joints)+1) # joint CoM linear velocities\n",
    "    T = [sp.Matrix([0])]*(len(all_joints)+1) # joint kinetic energy\n",
    "    V = [sp.Matrix([0])]*(len(all_joints)+1) # joint potential energy\n",
    "\n",
    "    chained_transforms = chained_transform(all_joints)\n",
    "    # chained_translations = chained_translation(all_joints)\n",
    "    # z = z_vecs(all_joints) # joint origins\n",
    "    z = sp.Matrix([0, 0, 1]) # base z vector\n",
    "\n",
    "    for i, joint, joint_type in zip(range(1, len(all_joints) + 1), all_joints, joint_types):\n",
    "        # Compute angular velocity\n",
    "        theta_dot = q_dot[i-1] if joint_type == 'revolute' else 0\n",
    "        w[i] = rotation(joint).T * (w[i-1] + z*theta_dot)\n",
    "\n",
    "        # Compute linear velocity\n",
    "        d_dot = q_dot[i-1] if joint_type == 'prismatic' else 0\n",
    "        r_i = (joint*sp.Matrix([0, 0, 0, 1]))[:3, :]\n",
    "        v[i] = rotation(joint).T * (v[i-1] + z*d_dot) + w[i].cross(r_i)\n",
    "\n",
    "        # Compute CoM linear velocity\n",
    "        v_c[i] = v[i] + w[i].cross(r_c[i][:3, :])\n",
    "\n",
    "        # Compute kinetic energy\n",
    "        T[i] = 0.5*m[i]*v_c[i].T*v_c[i] + 0.5*w[i].T*I[i]*w[i]\n",
    "\n",
    "        # Compute potential energy\n",
    "        p_ci = (chained_transforms[i]*r_c[i])[:3, :]\n",
    "        V[i] = -m[i]*sp.Matrix([0, -g, 0]).T*p_ci\n",
    "    \n",
    "    return w, v, v_c, T, V\n"
   ]
  },
  {
   "cell_type": "code",
   "execution_count": 15,
   "metadata": {},
   "outputs": [
    {
     "data": {
      "text/latex": [
       "$\\displaystyle \\left[\\begin{matrix}- L_{1} \\sin{\\left(\\theta_{1} \\right)} - L_{2} \\sin{\\left(\\theta_{1} \\right)} \\cos{\\left(\\theta_{2} \\right)} - L_{2} \\sin{\\left(\\theta_{2} \\right)} \\cos{\\left(\\theta_{1} \\right)} & - L_{2} \\sin{\\left(\\theta_{1} \\right)} \\cos{\\left(\\theta_{2} \\right)} - L_{2} \\sin{\\left(\\theta_{2} \\right)} \\cos{\\left(\\theta_{1} \\right)}\\\\L_{1} \\cos{\\left(\\theta_{1} \\right)} - L_{2} \\sin{\\left(\\theta_{1} \\right)} \\sin{\\left(\\theta_{2} \\right)} + L_{2} \\cos{\\left(\\theta_{1} \\right)} \\cos{\\left(\\theta_{2} \\right)} & - L_{2} \\sin{\\left(\\theta_{1} \\right)} \\sin{\\left(\\theta_{2} \\right)} + L_{2} \\cos{\\left(\\theta_{1} \\right)} \\cos{\\left(\\theta_{2} \\right)}\\end{matrix}\\right]$"
      ],
      "text/plain": [
       "⎡-L₁⋅sin(θ₁) - L₂⋅sin(θ₁)⋅cos(θ₂) - L₂⋅sin(θ₂)⋅cos(θ₁)  -L₂⋅sin(θ₁)⋅cos(θ₂) - \n",
       "⎢                                                                             \n",
       "⎣L₁⋅cos(θ₁) - L₂⋅sin(θ₁)⋅sin(θ₂) + L₂⋅cos(θ₁)⋅cos(θ₂)   -L₂⋅sin(θ₁)⋅sin(θ₂) + \n",
       "\n",
       "L₂⋅sin(θ₂)⋅cos(θ₁)⎤\n",
       "                  ⎥\n",
       "L₂⋅cos(θ₁)⋅cos(θ₂)⎦"
      ]
     },
     "execution_count": 15,
     "metadata": {},
     "output_type": "execute_result"
    }
   ],
   "source": [
    "L_1, L_2, L_c1, L_c2, r_c1, r_c2, m_1, m_2, I_c1, I_c2 = sp.symbols('L_1, L_2, L_c1, L_c2, r_c1, r_c2, m_1, m_2, I_c1, I_c2')\n",
    "theta_1, theta_2 = me.dynamicsymbols('theta_1, theta_2')\n",
    "q = sp.Matrix([theta_1, theta_2])\n",
    "q_dot = q.diff(t)\n",
    "m = [0, m_1, m_2]\n",
    "I = [0, I_c1, I_c2]\n",
    "r_c = [0, sp.Matrix([L_c1, 0, 0, 1]), sp.Matrix([L_c2, 0, 0, 1])]\n",
    "joint_1 = homogeneous(*dh(theta_1, 0, 0, L_1))\n",
    "joint_2 = homogeneous(*dh(theta_2, 0, 0, L_2))\n",
    "all_joints = [joint_1, joint_2]\n",
    "joint_types = ['revolute', 'revolute']\n",
    "\n",
    "w, v, v_c, T, V = compute_dynamics([joint_1, joint_2], joint_types, q_dot, m, I, r_c)\n",
    "T_sum = sp.zeros(1)\n",
    "V_sum = sp.zeros(1)\n",
    "for t_i in T:\n",
    "    T_sum += t_i\n",
    "T = simplify(T_sum)\n",
    "for v_i in V:\n",
    "    V_sum += v_i\n",
    "V = simplify(V_sum)\n",
    "J = jacobian(all_joints, joint_types)[:2, :]\n",
    "J"
   ]
  },
  {
   "cell_type": "code",
   "execution_count": 16,
   "metadata": {},
   "outputs": [
    {
     "data": {
      "text/latex": [
       "$\\displaystyle \\left[\\begin{matrix}-0.25\\\\0.683012701892219\\end{matrix}\\right]$"
      ],
      "text/plain": [
       "⎡      -0.25      ⎤\n",
       "⎢                 ⎥\n",
       "⎣0.683012701892219⎦"
      ]
     },
     "execution_count": 16,
     "metadata": {},
     "output_type": "execute_result"
    }
   ],
   "source": [
    "# Solve for joint velocities\n",
    "p_dot = sp.Matrix([0.5, 0])\n",
    "subs = {\n",
    "    theta_1: math.radians(30),\n",
    "    theta_2: math.radians(-90),\n",
    "    L_1: 1,\n",
    "    L_2: 1,\n",
    "    m_1: 1,\n",
    "    m_2: 1\n",
    "}\n",
    "J.inv().evalf(subs=subs) * p_dot"
   ]
  },
  {
   "cell_type": "code",
   "execution_count": 24,
   "metadata": {},
   "outputs": [
    {
     "data": {
      "text/latex": [
       "$\\displaystyle \\left[\\begin{matrix}0.5 I_{c1} \\dot{\\theta}_{1}^{2} + 0.5 I_{c2} \\left(\\dot{\\theta}_{1} + \\dot{\\theta}_{2}\\right)^{2} + 0.5 L_{1}^{2} m_{1} \\sin^{2}{\\left(\\theta_{1} \\right)} \\dot{\\theta}_{1}^{2} - g \\left(m_{1} \\left(L_{1} + L_{c1}\\right) \\sin{\\left(\\theta_{1} \\right)} + m_{2} \\left(L_{1} \\sin{\\left(\\theta_{1} \\right)} + L_{2} \\sin{\\left(\\theta_{1} + \\theta_{2} \\right)} + L_{c2} \\sin{\\left(\\theta_{1} + \\theta_{2} \\right)}\\right)\\right) + 0.5 m_{1} \\left(L_{1} \\cos{\\left(\\theta_{1} \\right)} + L_{c1}\\right)^{2} \\dot{\\theta}_{1}^{2} + 0.5 m_{2} \\left(L_{1} \\sin{\\left(\\theta_{1} - \\theta_{2} \\right)} \\dot{\\theta}_{1} + L_{2} \\sin{\\left(\\theta_{2} \\right)} \\dot{\\theta}_{1} + L_{2} \\sin{\\left(\\theta_{2} \\right)} \\dot{\\theta}_{2}\\right)^{2} + 0.5 m_{2} \\left(L_{1} \\cos{\\left(\\theta_{1} - \\theta_{2} \\right)} \\dot{\\theta}_{1} + L_{2} \\cos{\\left(\\theta_{2} \\right)} \\dot{\\theta}_{1} + L_{2} \\cos{\\left(\\theta_{2} \\right)} \\dot{\\theta}_{2} + L_{c2} \\dot{\\theta}_{1} + L_{c2} \\dot{\\theta}_{2}\\right)^{2}\\end{matrix}\\right]$"
      ],
      "text/plain": [
       "⎡           2                     2         2       2       2                 \n",
       "⎣0.5⋅I_c1⋅θ₁̇  + 0.5⋅I_c2⋅(θ₁̇ + θ₂̇)  + 0.5⋅L₁ ⋅m₁⋅sin (θ₁)⋅θ₁̇  - g⋅(m₁⋅(L₁ \n",
       "\n",
       "                                                                              \n",
       "+ L_c1)⋅sin(θ₁) + m₂⋅(L₁⋅sin(θ₁) + L₂⋅sin(θ₁ + θ₂) + L_c2⋅sin(θ₁ + θ₂))) + 0.5\n",
       "\n",
       "                   2   2                                                      \n",
       "⋅m₁⋅(L₁⋅cos(θ₁) + L_c1) ⋅θ₁̇  + 0.5⋅m₂⋅(L₁⋅sin(θ₁ - θ₂)⋅θ₁̇ + L₂⋅sin(θ₂)⋅θ₁̇ +\n",
       "\n",
       "        2                                                                     \n",
       " L₂⋅sin(θ₂)⋅θ₂̇)  + 0.5⋅m₂⋅(L₁⋅cos(θ₁ - θ₂)⋅θ₁̇ + L₂⋅cos(θ₂)⋅θ₁̇ + L₂⋅cos(θ₂)⋅\n",
       "\n",
       "             2⎤\n",
       "θ₂̇ + L_c2⋅θ₁̇ + L_c2⋅θ₂̇) ⎦"
      ]
     },
     "metadata": {},
     "output_type": "display_data"
    },
    {
     "data": {
      "text/latex": [
       "$\\displaystyle \\left[\\begin{matrix}97.1114846863766 + 0\\\\32.5991265877365 + 0\\end{matrix}\\right]$"
      ],
      "text/plain": [
       "⎡97.1114846863766 + 𝟘⎤\n",
       "⎢                    ⎥\n",
       "⎣32.5991265877365 + 𝟘⎦"
      ]
     },
     "execution_count": 24,
     "metadata": {},
     "output_type": "execute_result"
    }
   ],
   "source": [
    "L = T - V\n",
    "display(simplify(L))\n",
    "f_x, f_y, f_z, g_x, g_y, g_z = sp.symbols('f_x, f_y, f_z, g_x, g_y, g_z')\n",
    "subs = {\n",
    "    theta_1: math.radians(30),\n",
    "    theta_2: math.radians(-90),\n",
    "    L_1: 1,\n",
    "    L_2: 1,\n",
    "    m_1: 1,\n",
    "    m_2: 1,\n",
    "    f_x: 0,\n",
    "    f_y: -50,\n",
    "    # f_z: 0,\n",
    "    # g_x: 0,\n",
    "    # g_y: 0,\n",
    "    # g_z: 0,\n",
    "    theta_1.diff(t): -0.25,\n",
    "    theta_2.diff(t): 0.683012701892219,\n",
    "    I_c1: sp.Identity(3),\n",
    "    I_c2: sp.Identity(3),\n",
    "    L_c1: 0.5,\n",
    "    L_c2: 0.5,\n",
    "    g: 9.81\n",
    "}\n",
    "F_ext = sp.Matrix([f_x, f_y])\n",
    "temp = L.diff(q_dot).diff(t) - L.diff(q)\n",
    "temp = sp.Matrix([temp[0][0][0][0], temp[1][0][0][0]])\n",
    "simplify((temp - J.T*F_ext).evalf(subs=subs))"
   ]
  },
  {
   "cell_type": "code",
   "execution_count": null,
   "metadata": {},
   "outputs": [],
   "source": []
  }
 ],
 "metadata": {
  "kernelspec": {
   "display_name": "ece4704",
   "language": "python",
   "name": "python3"
  },
  "language_info": {
   "codemirror_mode": {
    "name": "ipython",
    "version": 3
   },
   "file_extension": ".py",
   "mimetype": "text/x-python",
   "name": "python",
   "nbconvert_exporter": "python",
   "pygments_lexer": "ipython3",
   "version": "3.8.16"
  },
  "orig_nbformat": 4
 },
 "nbformat": 4,
 "nbformat_minor": 2
}
