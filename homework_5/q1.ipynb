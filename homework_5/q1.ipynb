{
 "cells": [
  {
   "cell_type": "code",
   "execution_count": 88,
   "metadata": {},
   "outputs": [],
   "source": [
    "%matplotlib widget\n",
    "\n",
    "import sympy as sp\n",
    "import sympy.physics.mechanics as me\n",
    "import sympy.plotting as splt\n",
    "from typing import List\n",
    "from sympy import sin, cos, pi, sqrt, acos, simplify, atan\n",
    "import math\n",
    "me.init_vprinting()\n",
    "\n",
    "\n",
    "def homogeneous(rotation: sp.Matrix = sp.eye(3), translation: sp.Matrix = sp.zeros(3, 1)) -> sp.Matrix:\n",
    "    return rotation.row_join(translation).col_join(sp.Matrix([[0, 0, 0, 1]]))\n",
    "\n",
    "def dh(rotation, twist, displacement, offset):\n",
    "    rotation_mat = sp.Matrix([\n",
    "        [cos(rotation), -sin(rotation)*cos(twist),  sin(rotation)*sin(twist)],\n",
    "        [sin(rotation), cos(rotation)*cos(twist),   -cos(rotation)*sin(twist)],\n",
    "        [0,             sin(twist),                 cos(twist)],\n",
    "    ])\n",
    "    translation = sp.Matrix([\n",
    "        [offset*cos(rotation)],\n",
    "        [offset*sin(rotation)],\n",
    "        [displacement],\n",
    "    ])\n",
    "    return rotation_mat, translation\n",
    "\n",
    "def rotation(homogeneous: sp.Matrix):\n",
    "    return homogeneous[:3, :3]\n",
    "\n",
    "def translation(homogeneous: sp.Matrix):\n",
    "    return homogeneous[:3, 3:]\n",
    "\n",
    "def chained_transform(transforms: List[sp.Matrix]):\n",
    "    transforms_chained = [homogeneous()]\n",
    "    for transform in transforms:\n",
    "        transforms_chained.append(transforms_chained[-1] * transform)\n",
    "    return transforms_chained\n",
    "\n",
    "def z_vecs(transforms: List[sp.Matrix]):\n",
    "    transforms_chained = chained_transform(transforms)\n",
    "    z_unit_vecs = []\n",
    "    for transform in transforms_chained:\n",
    "        z_unit_vecs.append(rotation(transform) * sp.Matrix([0, 0, 1]))\n",
    "    return z_unit_vecs\n",
    "\n",
    "def jacobian(transforms: List[sp.Matrix], joint_types: List[sp.Matrix], base_z: sp.Matrix = sp.Matrix([0, 0, 1])):\n",
    "    transforms_chained = chained_transform(transforms)\n",
    "    z_unit_vecs = z_vecs(transforms)\n",
    "    \n",
    "    assert len(transforms_chained) == len(z_unit_vecs)\n",
    "\n",
    "    jacobian = sp.zeros(6, len(transforms))\n",
    "    for i, (transform, joint_type) in enumerate(zip(transforms, joint_types)):\n",
    "        if joint_type == 'revolute':\n",
    "            jacobian[:3, i] = z_unit_vecs[i].cross(translation(transforms_chained[-1]) - translation(transforms_chained[i]))\n",
    "            jacobian[3:, i] = z_unit_vecs[i]\n",
    "        elif joint_type == 'prismatic':\n",
    "            jacobian[:3, i] = z_unit_vecs[i]\n",
    "            jacobian[3:, i] = sp.Matrix([[0], [0], [0]])\n",
    "\n",
    "        # angular velocity\n",
    "\n",
    "    return jacobian\n",
    "\n",
    "def skew(v: sp.Matrix):\n",
    "    return sp.Matrix([\n",
    "        [0, -v[2], v[1]],\n",
    "        [v[2], 0, -v[0]],\n",
    "        [-v[1], v[0], 0],\n",
    "    ])"
   ]
  },
  {
   "cell_type": "code",
   "execution_count": 89,
   "metadata": {},
   "outputs": [],
   "source": [
    "t = sp.symbols('t')\n",
    "g = sp.symbols('g')\n",
    "# joint variables\n",
    "# theta_1, d_1 = sp.symbols('\\\\theta_1, d_1')\n",
    "theta_1, d_2 = me.dynamicsymbols('\\\\theta_1, d_2')\n",
    "q = sp.Matrix([theta_1, d_2])\n",
    "q_dot = q.diff(t)\n",
    "# physical properties\n",
    "l_c1, m_1, m_2, I_1, I_2 = sp.symbols('l_c1, m_1, m_2, I_1, I_2')\n",
    "r_c = [sp.Matrix([0, 0, 0, 1]), sp.Matrix([0, 0, l_c1, 1]), sp.Matrix([0, 0, 0, 1])] # CoM positions in the joint frame\n",
    "m = [None, m_1, m_2]\n",
    "I = [None, I_1, I_2]\n",
    "\n",
    "joint_1 = homogeneous(*dh(pi/2 + theta_1, pi/2, 0, 0))\n",
    "joint_2 = homogeneous(*dh(0, 0, d_2, 0))\n",
    "all_joints = [joint_1, joint_2]\n",
    "joint_types = ['revolute', 'prismatic']"
   ]
  },
  {
   "cell_type": "code",
   "execution_count": 90,
   "metadata": {},
   "outputs": [
    {
     "data": {
      "text/latex": [
       "$\\displaystyle \\left[\\begin{matrix}- \\sin{\\left(\\theta_{1} \\right)} & 0 & \\cos{\\left(\\theta_{1} \\right)} & 0\\\\\\cos{\\left(\\theta_{1} \\right)} & 0 & \\sin{\\left(\\theta_{1} \\right)} & 0\\\\0 & 1 & 0 & 0\\\\0 & 0 & 0 & 1\\end{matrix}\\right]$"
      ],
      "text/plain": [
       "⎡-sin(\\theta₁)  0  cos(\\theta₁)  0⎤\n",
       "⎢                                 ⎥\n",
       "⎢cos(\\theta₁)   0  sin(\\theta₁)  0⎥\n",
       "⎢                                 ⎥\n",
       "⎢      0        1       0        0⎥\n",
       "⎢                                 ⎥\n",
       "⎣      0        0       0        1⎦"
      ]
     },
     "metadata": {},
     "output_type": "display_data"
    },
    {
     "data": {
      "text/latex": [
       "$\\displaystyle \\left[\\begin{matrix}1 & 0 & 0 & 0\\\\0 & 1 & 0 & 0\\\\0 & 0 & 1 & d_{2}\\\\0 & 0 & 0 & 1\\end{matrix}\\right]$"
      ],
      "text/plain": [
       "⎡1  0  0  0 ⎤\n",
       "⎢           ⎥\n",
       "⎢0  1  0  0 ⎥\n",
       "⎢           ⎥\n",
       "⎢0  0  1  d₂⎥\n",
       "⎢           ⎥\n",
       "⎣0  0  0  1 ⎦"
      ]
     },
     "metadata": {},
     "output_type": "display_data"
    },
    {
     "data": {
      "text/latex": [
       "$\\displaystyle \\left[\\begin{matrix}0\\\\0\\\\0\\\\1\\end{matrix}\\right]$"
      ],
      "text/plain": [
       "⎡0⎤\n",
       "⎢ ⎥\n",
       "⎢0⎥\n",
       "⎢ ⎥\n",
       "⎢0⎥\n",
       "⎢ ⎥\n",
       "⎣1⎦"
      ]
     },
     "metadata": {},
     "output_type": "display_data"
    },
    {
     "data": {
      "text/latex": [
       "$\\displaystyle \\left[\\begin{matrix}- \\sin{\\left(\\theta_{1} \\right)} & 0 & \\cos{\\left(\\theta_{1} \\right)} & d_{2} \\cos{\\left(\\theta_{1} \\right)}\\\\\\cos{\\left(\\theta_{1} \\right)} & 0 & \\sin{\\left(\\theta_{1} \\right)} & d_{2} \\sin{\\left(\\theta_{1} \\right)}\\\\0 & 1 & 0 & 0\\\\0 & 0 & 0 & 1\\end{matrix}\\right]$"
      ],
      "text/plain": [
       "⎡-sin(\\theta₁)  0  cos(\\theta₁)  d₂⋅cos(\\theta₁)⎤\n",
       "⎢                                               ⎥\n",
       "⎢cos(\\theta₁)   0  sin(\\theta₁)  d₂⋅sin(\\theta₁)⎥\n",
       "⎢                                               ⎥\n",
       "⎢      0        1       0               0       ⎥\n",
       "⎢                                               ⎥\n",
       "⎣      0        0       0               1       ⎦"
      ]
     },
     "metadata": {},
     "output_type": "display_data"
    }
   ],
   "source": [
    "display(joint_1)\n",
    "display(joint_2)\n",
    "display(joint_1*sp.Matrix([0, 0, 0, 1]))\n",
    "display(joint_1*joint_2)"
   ]
  },
  {
   "cell_type": "code",
   "execution_count": 91,
   "metadata": {},
   "outputs": [
    {
     "data": {
      "text/latex": [
       "$\\displaystyle \\left[\\begin{matrix}- d_{2} \\sin{\\left(\\theta_{1} \\right)} & \\cos{\\left(\\theta_{1} \\right)}\\\\d_{2} \\cos{\\left(\\theta_{1} \\right)} & \\sin{\\left(\\theta_{1} \\right)}\\\\0 & 0\\\\0 & 0\\\\0 & 0\\\\1 & 0\\end{matrix}\\right]$"
      ],
      "text/plain": [
       "⎡-d₂⋅sin(\\theta₁)  cos(\\theta₁)⎤\n",
       "⎢                              ⎥\n",
       "⎢d₂⋅cos(\\theta₁)   sin(\\theta₁)⎥\n",
       "⎢                              ⎥\n",
       "⎢       0               0      ⎥\n",
       "⎢                              ⎥\n",
       "⎢       0               0      ⎥\n",
       "⎢                              ⎥\n",
       "⎢       0               0      ⎥\n",
       "⎢                              ⎥\n",
       "⎣       1               0      ⎦"
      ]
     },
     "metadata": {},
     "output_type": "display_data"
    },
    {
     "data": {
      "text/latex": [
       "$\\displaystyle \\left[\\begin{matrix}0\\\\\\dot{\\theta}_{1}\\\\0\\end{matrix}\\right]$"
      ],
      "text/plain": [
       "⎡   0   ⎤\n",
       "⎢       ⎥\n",
       "⎢\\thėta₁⎥\n",
       "⎢       ⎥\n",
       "⎣   0   ⎦"
      ]
     },
     "metadata": {},
     "output_type": "display_data"
    },
    {
     "data": {
      "text/latex": [
       "$\\displaystyle \\left[\\begin{matrix}0\\\\\\dot{\\theta}_{1}\\\\0\\end{matrix}\\right]$"
      ],
      "text/plain": [
       "⎡   0   ⎤\n",
       "⎢       ⎥\n",
       "⎢\\thėta₁⎥\n",
       "⎢       ⎥\n",
       "⎣   0   ⎦"
      ]
     },
     "metadata": {},
     "output_type": "display_data"
    },
    {
     "data": {
      "text/latex": [
       "$\\displaystyle \\left[\\begin{matrix}0\\\\0\\\\0\\end{matrix}\\right]$"
      ],
      "text/plain": [
       "⎡0⎤\n",
       "⎢ ⎥\n",
       "⎢0⎥\n",
       "⎢ ⎥\n",
       "⎣0⎦"
      ]
     },
     "metadata": {},
     "output_type": "display_data"
    },
    {
     "data": {
      "text/latex": [
       "$\\displaystyle \\left[\\begin{matrix}d_{2} \\dot{\\theta}_{1}\\\\0\\\\\\dot{d}_{2}\\end{matrix}\\right]$"
      ],
      "text/plain": [
       "⎡d₂⋅\\thėta₁⎤\n",
       "⎢          ⎥\n",
       "⎢    0     ⎥\n",
       "⎢          ⎥\n",
       "⎣    d₂̇    ⎦"
      ]
     },
     "metadata": {},
     "output_type": "display_data"
    },
    {
     "data": {
      "text/latex": [
       "$\\displaystyle \\left[\\begin{matrix}l_{c1} \\dot{\\theta}_{1}\\\\0\\\\0\\end{matrix}\\right]$"
      ],
      "text/plain": [
       "⎡l_c1⋅\\thėta₁⎤\n",
       "⎢            ⎥\n",
       "⎢     0      ⎥\n",
       "⎢            ⎥\n",
       "⎣     0      ⎦"
      ]
     },
     "metadata": {},
     "output_type": "display_data"
    },
    {
     "data": {
      "text/latex": [
       "$\\displaystyle \\left[\\begin{matrix}d_{2} \\dot{\\theta}_{1}\\\\0\\\\\\dot{d}_{2}\\end{matrix}\\right]$"
      ],
      "text/plain": [
       "⎡d₂⋅\\thėta₁⎤\n",
       "⎢          ⎥\n",
       "⎢    0     ⎥\n",
       "⎢          ⎥\n",
       "⎣    d₂̇    ⎦"
      ]
     },
     "metadata": {},
     "output_type": "display_data"
    },
    {
     "data": {
      "text/latex": [
       "$\\displaystyle \\left[\\begin{matrix}0.5 I_{1} \\dot{\\theta}_{1}^{2} + 0.5 l_{c1}^{2} m_{1} \\dot{\\theta}_{1}^{2}\\end{matrix}\\right]$"
      ],
      "text/plain": [
       "⎡              2           2           2⎤\n",
       "⎣0.5⋅I₁⋅\\thėta₁  + 0.5⋅l_c1 ⋅m₁⋅\\thėta₁ ⎦"
      ]
     },
     "metadata": {},
     "output_type": "display_data"
    },
    {
     "data": {
      "text/latex": [
       "$\\displaystyle \\left[\\begin{matrix}0.5 I_{2} \\dot{\\theta}_{1}^{2} + 0.5 m_{2} d_{2}^{2} \\dot{\\theta}_{1}^{2} + 0.5 m_{2} \\dot{d}_{2}^{2}\\end{matrix}\\right]$"
      ],
      "text/plain": [
       "⎡              2            2        2            2⎤\n",
       "⎣0.5⋅I₂⋅\\thėta₁  + 0.5⋅m₂⋅d₂ ⋅\\thėta₁  + 0.5⋅m₂⋅d₂̇ ⎦"
      ]
     },
     "metadata": {},
     "output_type": "display_data"
    },
    {
     "data": {
      "text/latex": [
       "$\\displaystyle \\left[\\begin{matrix}g l_{c1} m_{1} \\sin{\\left(\\theta_{1} \\right)}\\end{matrix}\\right]$"
      ],
      "text/plain": [
       "[g⋅l_c1⋅m₁⋅sin(\\theta₁)]"
      ]
     },
     "metadata": {},
     "output_type": "display_data"
    },
    {
     "data": {
      "text/latex": [
       "$\\displaystyle \\left[\\begin{matrix}g m_{2} d_{2} \\sin{\\left(\\theta_{1} \\right)}\\end{matrix}\\right]$"
      ],
      "text/plain": [
       "[g⋅m₂⋅d₂⋅sin(\\theta₁)]"
      ]
     },
     "metadata": {},
     "output_type": "display_data"
    }
   ],
   "source": [
    "# Compute Jacobian\n",
    "J = jacobian(all_joints, joint_types)\n",
    "\n",
    "w = [sp.Matrix([0, 0, 0])]*(len(all_joints)+1) # joint linear velocities\n",
    "v = [sp.Matrix([0, 0, 0])]*(len(all_joints)+1) # joint angular velocities\n",
    "v_c = [sp.Matrix([0, 0, 0])]*(len(all_joints)+1) # joint CoM linear velocities\n",
    "T = [sp.Matrix([0])]*(len(all_joints)+1) # joint kinetic energy\n",
    "V = [sp.Matrix([0])]*(len(all_joints)+1) # joint potential energy\n",
    "\n",
    "chained_transforms = chained_transform(all_joints)\n",
    "# chained_translations = chained_translation(all_joints)\n",
    "# z = z_vecs(all_joints) # joint origins\n",
    "z = sp.Matrix([0, 0, 1]) # base z vector\n",
    "\n",
    "for i, joint, joint_type in zip(range(1, len(all_joints) + 1), all_joints, joint_types):\n",
    "    # Compute angular velocity\n",
    "    theta_dot = q_dot[i-1] if joint_type == 'revolute' else 0\n",
    "    w[i] = rotation(joint).T * (w[i-1] + z*theta_dot)\n",
    "\n",
    "    # Compute linear velocity\n",
    "    d_dot = q_dot[i-1] if joint_type == 'prismatic' else 0\n",
    "    r_i = (joint*sp.Matrix([0, 0, 0, 1]))[:3, :]\n",
    "    v[i] = rotation(joint).T * (v[i-1] + z*d_dot) + w[i].cross(r_i)\n",
    "\n",
    "    # Compute CoM linear velocity\n",
    "    v_c[i] = v[i] + w[i].cross(r_c[i][:3, :])\n",
    "\n",
    "    # Compute kinetic energy\n",
    "    T[i] = 0.5*m[i]*v_c[i].T*v_c[i] + 0.5*w[i].T*I[i]*w[i]\n",
    "\n",
    "    # Compute potential energy\n",
    "    p_ci = (chained_transforms[i]*r_c[i])[:3, :]\n",
    "    V[i] = -m[i]*sp.Matrix([0, -g, 0]).T*p_ci\n",
    "\n",
    "display(J)\n",
    "display(w[1])\n",
    "display(w[2])\n",
    "display(v[1])\n",
    "display(v[2])\n",
    "display(v_c[1])\n",
    "display(v_c[2])\n",
    "display(T[1])\n",
    "display(T[2])\n",
    "display(V[1])\n",
    "display(V[2])"
   ]
  },
  {
   "cell_type": "code",
   "execution_count": 92,
   "metadata": {},
   "outputs": [
    {
     "data": {
      "text/latex": [
       "$\\displaystyle \\left[\\begin{matrix}1.0 I_{1} \\ddot{\\theta}_{1} + 1.0 I_{2} \\ddot{\\theta}_{1} + f_{x} d_{2} \\sin{\\left(\\theta_{1} \\right)} - f_{y} d_{2} \\cos{\\left(\\theta_{1} \\right)} + g l_{c1} m_{1} \\cos{\\left(\\theta_{1} \\right)} + g m_{2} d_{2} \\cos{\\left(\\theta_{1} \\right)} - g_{z} + 1.0 l_{c1}^{2} m_{1} \\ddot{\\theta}_{1} + 1.0 m_{2} d_{2}^{2} \\ddot{\\theta}_{1} + 2.0 m_{2} d_{2} \\dot{\\theta}_{1} \\dot{d}_{2}\\\\- f_{x} \\cos{\\left(\\theta_{1} \\right)} - f_{y} \\sin{\\left(\\theta_{1} \\right)} + g m_{2} \\sin{\\left(\\theta_{1} \\right)} - 1.0 m_{2} d_{2} \\dot{\\theta}_{1}^{2} + 1.0 m_{2} \\ddot{d}_{2}\\end{matrix}\\right]$"
      ],
      "text/plain": [
       "⎡                                                                             \n",
       "⎢1.0⋅I₁⋅\\thëta₁ + 1.0⋅I₂⋅\\thëta₁ + fₓ⋅d₂⋅sin(\\theta₁) - f_y⋅d₂⋅cos(\\theta₁) \n",
       "⎢                                                                             \n",
       "⎢                                                                             \n",
       "⎣                                                       -fₓ⋅cos(\\theta₁) - f_y\n",
       "\n",
       "                                                              2               \n",
       "+ g⋅l_c1⋅m₁⋅cos(\\theta₁) + g⋅m₂⋅d₂⋅cos(\\theta₁) - g_z + 1.0⋅l_c1 ⋅m₁⋅\\thëta₁ \n",
       "                                                                              \n",
       "                                                 2                            \n",
       "⋅sin(\\theta₁) + g⋅m₂⋅sin(\\theta₁) - m₂⋅d₂⋅\\thėta₁  + 1.0⋅m₂⋅d₂̈              \n",
       "\n",
       "        2                               ⎤\n",
       "+ 1.0⋅m₂⋅d₂ ⋅\\thëta₁ + 2.0⋅m₂⋅d₂⋅\\thėta₁⋅d₂̇⎥\n",
       "                                        ⎥\n",
       "                                        ⎥\n",
       "                                          ⎦"
      ]
     },
     "execution_count": 92,
     "metadata": {},
     "output_type": "execute_result"
    }
   ],
   "source": [
    "# Construct robot dynamics\n",
    "T = T[1]+T[2]\n",
    "V = V[1]+V[2]\n",
    "L = T - V\n",
    "\n",
    "f_x, f_y, f_z, g_x, g_y, g_z = sp.symbols('f_x, f_y, f_z, g_x, g_y, g_z')\n",
    "F_ext = sp.Matrix([f_x, f_y, f_z, g_x, g_y, g_z])\n",
    "# to = L.diff(q_dot).diff(t) - L.diff(q)\n",
    "\n",
    "temp = L.diff(q_dot).diff(t) - L.diff(q)\n",
    "temp = sp.Matrix([temp[0][0][0][0], temp[1][0][0][0]])\n",
    "temp - J.T*F_ext"
   ]
  }
 ],
 "metadata": {
  "kernelspec": {
   "display_name": "ece4704",
   "language": "python",
   "name": "python3"
  },
  "language_info": {
   "codemirror_mode": {
    "name": "ipython",
    "version": 3
   },
   "file_extension": ".py",
   "mimetype": "text/x-python",
   "name": "python",
   "nbconvert_exporter": "python",
   "pygments_lexer": "ipython3",
   "version": "3.8.16"
  },
  "orig_nbformat": 4
 },
 "nbformat": 4,
 "nbformat_minor": 2
}
